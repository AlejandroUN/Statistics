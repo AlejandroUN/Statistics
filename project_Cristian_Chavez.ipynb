{
  "cells": [
    {
      "cell_type": "markdown",
      "id": "528c4397",
      "metadata": {
        "id": "528c4397"
      },
      "source": [
        "# MDI220\n",
        "# Statistics\n",
        "\n",
        "# Project"
      ]
    },
    {
      "cell_type": "markdown",
      "id": "9f9f9769",
      "metadata": {
        "id": "9f9f9769"
      },
      "source": [
        "This is the project for the course on statistics.\n",
        "\n",
        "You must fill this notebook and upload it on eCampus, **including figures**. Please make sure that it runs **without erros**.\n",
        "\n",
        "You can work in teams but the final notebook, including text and code, must be **yours**. Any copy-pasting across students is strictly forbidden.\n",
        "\n",
        "Please provide **concise answers** and **concise code**, with comments when appropriate."
      ]
    },
    {
      "cell_type": "markdown",
      "id": "ca534555",
      "metadata": {
        "id": "ca534555"
      },
      "source": [
        "## Your name: Cristian Alejandro Chávez Becerra\n",
        "(there are some warnings in the code, but no errors)"
      ]
    },
    {
      "cell_type": "markdown",
      "id": "986d36a8",
      "metadata": {
        "id": "986d36a8"
      },
      "source": [
        "## Imports"
      ]
    },
    {
      "cell_type": "markdown",
      "id": "f30a6df8",
      "metadata": {
        "id": "f30a6df8"
      },
      "source": [
        "Please do **not** import any other library."
      ]
    },
    {
      "cell_type": "code",
      "execution_count": 111,
      "id": "d453a573",
      "metadata": {
        "id": "d453a573"
      },
      "outputs": [],
      "source": [
        "import numpy as np\n",
        "import pandas as pd\n",
        "import matplotlib.pyplot as plt"
      ]
    },
    {
      "cell_type": "code",
      "execution_count": 112,
      "id": "18e10613",
      "metadata": {
        "id": "18e10613"
      },
      "outputs": [],
      "source": [
        "from scipy.stats import norm, chi2, gaussian_kde, t"
      ]
    },
    {
      "cell_type": "code",
      "execution_count": 138,
      "id": "2e543f41",
      "metadata": {
        "id": "2e543f41"
      },
      "outputs": [],
      "source": [
        "import seaborn as sns\n"
      ]
    },
    {
      "cell_type": "markdown",
      "id": "150efe52",
      "metadata": {
        "id": "150efe52"
      },
      "source": [
        "## Data"
      ]
    },
    {
      "cell_type": "markdown",
      "id": "a447bd21",
      "metadata": {
        "id": "a447bd21"
      },
      "source": [
        "We consider the **daily electric power consumption** (in MW) in France in the period 2013-2023. The dataset is available on **eCampus**.\n",
        "\n",
        "Detailed information on this dataset is available [here](https://www.data.gouv.fr/fr/datasets/consommation-quotidienne-brute-regionale/)."
      ]
    },
    {
      "cell_type": "code",
      "execution_count": 114,
      "id": "a5379d2c",
      "metadata": {
        "id": "a5379d2c"
      },
      "outputs": [],
      "source": [
        "# do not modify this cell\n",
        "filename = 'power_consumption.csv'\n",
        "df = pd.read_csv(filename)"
      ]
    },
    {
      "cell_type": "code",
      "execution_count": 115,
      "id": "c67ea70e",
      "metadata": {
        "id": "c67ea70e",
        "colab": {
          "base_uri": "https://localhost:8080/",
          "height": 206
        },
        "outputId": "7ca9e787-9410-4a23-c960-16913ead3ea1"
      },
      "outputs": [
        {
          "output_type": "execute_result",
          "data": {
            "text/plain": [
              "                 region        date  consumption\n",
              "0  Auvergne-Rhône-Alpes  2013-01-01         7560\n",
              "1  Auvergne-Rhône-Alpes  2013-01-02         8700\n",
              "2  Auvergne-Rhône-Alpes  2013-01-03         9367\n",
              "3  Auvergne-Rhône-Alpes  2013-01-04         9133\n",
              "4  Auvergne-Rhône-Alpes  2013-01-05         8283"
            ],
            "text/html": [
              "\n",
              "  <div id=\"df-19949efb-6b66-48b4-a8d4-36c29499076f\" class=\"colab-df-container\">\n",
              "    <div>\n",
              "<style scoped>\n",
              "    .dataframe tbody tr th:only-of-type {\n",
              "        vertical-align: middle;\n",
              "    }\n",
              "\n",
              "    .dataframe tbody tr th {\n",
              "        vertical-align: top;\n",
              "    }\n",
              "\n",
              "    .dataframe thead th {\n",
              "        text-align: right;\n",
              "    }\n",
              "</style>\n",
              "<table border=\"1\" class=\"dataframe\">\n",
              "  <thead>\n",
              "    <tr style=\"text-align: right;\">\n",
              "      <th></th>\n",
              "      <th>region</th>\n",
              "      <th>date</th>\n",
              "      <th>consumption</th>\n",
              "    </tr>\n",
              "  </thead>\n",
              "  <tbody>\n",
              "    <tr>\n",
              "      <th>0</th>\n",
              "      <td>Auvergne-Rhône-Alpes</td>\n",
              "      <td>2013-01-01</td>\n",
              "      <td>7560</td>\n",
              "    </tr>\n",
              "    <tr>\n",
              "      <th>1</th>\n",
              "      <td>Auvergne-Rhône-Alpes</td>\n",
              "      <td>2013-01-02</td>\n",
              "      <td>8700</td>\n",
              "    </tr>\n",
              "    <tr>\n",
              "      <th>2</th>\n",
              "      <td>Auvergne-Rhône-Alpes</td>\n",
              "      <td>2013-01-03</td>\n",
              "      <td>9367</td>\n",
              "    </tr>\n",
              "    <tr>\n",
              "      <th>3</th>\n",
              "      <td>Auvergne-Rhône-Alpes</td>\n",
              "      <td>2013-01-04</td>\n",
              "      <td>9133</td>\n",
              "    </tr>\n",
              "    <tr>\n",
              "      <th>4</th>\n",
              "      <td>Auvergne-Rhône-Alpes</td>\n",
              "      <td>2013-01-05</td>\n",
              "      <td>8283</td>\n",
              "    </tr>\n",
              "  </tbody>\n",
              "</table>\n",
              "</div>\n",
              "    <div class=\"colab-df-buttons\">\n",
              "\n",
              "  <div class=\"colab-df-container\">\n",
              "    <button class=\"colab-df-convert\" onclick=\"convertToInteractive('df-19949efb-6b66-48b4-a8d4-36c29499076f')\"\n",
              "            title=\"Convert this dataframe to an interactive table.\"\n",
              "            style=\"display:none;\">\n",
              "\n",
              "  <svg xmlns=\"http://www.w3.org/2000/svg\" height=\"24px\" viewBox=\"0 -960 960 960\">\n",
              "    <path d=\"M120-120v-720h720v720H120Zm60-500h600v-160H180v160Zm220 220h160v-160H400v160Zm0 220h160v-160H400v160ZM180-400h160v-160H180v160Zm440 0h160v-160H620v160ZM180-180h160v-160H180v160Zm440 0h160v-160H620v160Z\"/>\n",
              "  </svg>\n",
              "    </button>\n",
              "\n",
              "  <style>\n",
              "    .colab-df-container {\n",
              "      display:flex;\n",
              "      gap: 12px;\n",
              "    }\n",
              "\n",
              "    .colab-df-convert {\n",
              "      background-color: #E8F0FE;\n",
              "      border: none;\n",
              "      border-radius: 50%;\n",
              "      cursor: pointer;\n",
              "      display: none;\n",
              "      fill: #1967D2;\n",
              "      height: 32px;\n",
              "      padding: 0 0 0 0;\n",
              "      width: 32px;\n",
              "    }\n",
              "\n",
              "    .colab-df-convert:hover {\n",
              "      background-color: #E2EBFA;\n",
              "      box-shadow: 0px 1px 2px rgba(60, 64, 67, 0.3), 0px 1px 3px 1px rgba(60, 64, 67, 0.15);\n",
              "      fill: #174EA6;\n",
              "    }\n",
              "\n",
              "    .colab-df-buttons div {\n",
              "      margin-bottom: 4px;\n",
              "    }\n",
              "\n",
              "    [theme=dark] .colab-df-convert {\n",
              "      background-color: #3B4455;\n",
              "      fill: #D2E3FC;\n",
              "    }\n",
              "\n",
              "    [theme=dark] .colab-df-convert:hover {\n",
              "      background-color: #434B5C;\n",
              "      box-shadow: 0px 1px 3px 1px rgba(0, 0, 0, 0.15);\n",
              "      filter: drop-shadow(0px 1px 2px rgba(0, 0, 0, 0.3));\n",
              "      fill: #FFFFFF;\n",
              "    }\n",
              "  </style>\n",
              "\n",
              "    <script>\n",
              "      const buttonEl =\n",
              "        document.querySelector('#df-19949efb-6b66-48b4-a8d4-36c29499076f button.colab-df-convert');\n",
              "      buttonEl.style.display =\n",
              "        google.colab.kernel.accessAllowed ? 'block' : 'none';\n",
              "\n",
              "      async function convertToInteractive(key) {\n",
              "        const element = document.querySelector('#df-19949efb-6b66-48b4-a8d4-36c29499076f');\n",
              "        const dataTable =\n",
              "          await google.colab.kernel.invokeFunction('convertToInteractive',\n",
              "                                                    [key], {});\n",
              "        if (!dataTable) return;\n",
              "\n",
              "        const docLinkHtml = 'Like what you see? Visit the ' +\n",
              "          '<a target=\"_blank\" href=https://colab.research.google.com/notebooks/data_table.ipynb>data table notebook</a>'\n",
              "          + ' to learn more about interactive tables.';\n",
              "        element.innerHTML = '';\n",
              "        dataTable['output_type'] = 'display_data';\n",
              "        await google.colab.output.renderOutput(dataTable, element);\n",
              "        const docLink = document.createElement('div');\n",
              "        docLink.innerHTML = docLinkHtml;\n",
              "        element.appendChild(docLink);\n",
              "      }\n",
              "    </script>\n",
              "  </div>\n",
              "\n",
              "\n",
              "<div id=\"df-483dc20c-6f66-45a2-94a9-86797d708ac7\">\n",
              "  <button class=\"colab-df-quickchart\" onclick=\"quickchart('df-483dc20c-6f66-45a2-94a9-86797d708ac7')\"\n",
              "            title=\"Suggest charts.\"\n",
              "            style=\"display:none;\">\n",
              "\n",
              "<svg xmlns=\"http://www.w3.org/2000/svg\" height=\"24px\"viewBox=\"0 0 24 24\"\n",
              "     width=\"24px\">\n",
              "    <g>\n",
              "        <path d=\"M19 3H5c-1.1 0-2 .9-2 2v14c0 1.1.9 2 2 2h14c1.1 0 2-.9 2-2V5c0-1.1-.9-2-2-2zM9 17H7v-7h2v7zm4 0h-2V7h2v10zm4 0h-2v-4h2v4z\"/>\n",
              "    </g>\n",
              "</svg>\n",
              "  </button>\n",
              "\n",
              "<style>\n",
              "  .colab-df-quickchart {\n",
              "      --bg-color: #E8F0FE;\n",
              "      --fill-color: #1967D2;\n",
              "      --hover-bg-color: #E2EBFA;\n",
              "      --hover-fill-color: #174EA6;\n",
              "      --disabled-fill-color: #AAA;\n",
              "      --disabled-bg-color: #DDD;\n",
              "  }\n",
              "\n",
              "  [theme=dark] .colab-df-quickchart {\n",
              "      --bg-color: #3B4455;\n",
              "      --fill-color: #D2E3FC;\n",
              "      --hover-bg-color: #434B5C;\n",
              "      --hover-fill-color: #FFFFFF;\n",
              "      --disabled-bg-color: #3B4455;\n",
              "      --disabled-fill-color: #666;\n",
              "  }\n",
              "\n",
              "  .colab-df-quickchart {\n",
              "    background-color: var(--bg-color);\n",
              "    border: none;\n",
              "    border-radius: 50%;\n",
              "    cursor: pointer;\n",
              "    display: none;\n",
              "    fill: var(--fill-color);\n",
              "    height: 32px;\n",
              "    padding: 0;\n",
              "    width: 32px;\n",
              "  }\n",
              "\n",
              "  .colab-df-quickchart:hover {\n",
              "    background-color: var(--hover-bg-color);\n",
              "    box-shadow: 0 1px 2px rgba(60, 64, 67, 0.3), 0 1px 3px 1px rgba(60, 64, 67, 0.15);\n",
              "    fill: var(--button-hover-fill-color);\n",
              "  }\n",
              "\n",
              "  .colab-df-quickchart-complete:disabled,\n",
              "  .colab-df-quickchart-complete:disabled:hover {\n",
              "    background-color: var(--disabled-bg-color);\n",
              "    fill: var(--disabled-fill-color);\n",
              "    box-shadow: none;\n",
              "  }\n",
              "\n",
              "  .colab-df-spinner {\n",
              "    border: 2px solid var(--fill-color);\n",
              "    border-color: transparent;\n",
              "    border-bottom-color: var(--fill-color);\n",
              "    animation:\n",
              "      spin 1s steps(1) infinite;\n",
              "  }\n",
              "\n",
              "  @keyframes spin {\n",
              "    0% {\n",
              "      border-color: transparent;\n",
              "      border-bottom-color: var(--fill-color);\n",
              "      border-left-color: var(--fill-color);\n",
              "    }\n",
              "    20% {\n",
              "      border-color: transparent;\n",
              "      border-left-color: var(--fill-color);\n",
              "      border-top-color: var(--fill-color);\n",
              "    }\n",
              "    30% {\n",
              "      border-color: transparent;\n",
              "      border-left-color: var(--fill-color);\n",
              "      border-top-color: var(--fill-color);\n",
              "      border-right-color: var(--fill-color);\n",
              "    }\n",
              "    40% {\n",
              "      border-color: transparent;\n",
              "      border-right-color: var(--fill-color);\n",
              "      border-top-color: var(--fill-color);\n",
              "    }\n",
              "    60% {\n",
              "      border-color: transparent;\n",
              "      border-right-color: var(--fill-color);\n",
              "    }\n",
              "    80% {\n",
              "      border-color: transparent;\n",
              "      border-right-color: var(--fill-color);\n",
              "      border-bottom-color: var(--fill-color);\n",
              "    }\n",
              "    90% {\n",
              "      border-color: transparent;\n",
              "      border-bottom-color: var(--fill-color);\n",
              "    }\n",
              "  }\n",
              "</style>\n",
              "\n",
              "  <script>\n",
              "    async function quickchart(key) {\n",
              "      const quickchartButtonEl =\n",
              "        document.querySelector('#' + key + ' button');\n",
              "      quickchartButtonEl.disabled = true;  // To prevent multiple clicks.\n",
              "      quickchartButtonEl.classList.add('colab-df-spinner');\n",
              "      try {\n",
              "        const charts = await google.colab.kernel.invokeFunction(\n",
              "            'suggestCharts', [key], {});\n",
              "      } catch (error) {\n",
              "        console.error('Error during call to suggestCharts:', error);\n",
              "      }\n",
              "      quickchartButtonEl.classList.remove('colab-df-spinner');\n",
              "      quickchartButtonEl.classList.add('colab-df-quickchart-complete');\n",
              "    }\n",
              "    (() => {\n",
              "      let quickchartButtonEl =\n",
              "        document.querySelector('#df-483dc20c-6f66-45a2-94a9-86797d708ac7 button');\n",
              "      quickchartButtonEl.style.display =\n",
              "        google.colab.kernel.accessAllowed ? 'block' : 'none';\n",
              "    })();\n",
              "  </script>\n",
              "</div>\n",
              "    </div>\n",
              "  </div>\n"
            ]
          },
          "metadata": {},
          "execution_count": 115
        }
      ],
      "source": [
        "df.head()"
      ]
    },
    {
      "cell_type": "code",
      "execution_count": 116,
      "id": "9e299cd9",
      "metadata": {
        "id": "9e299cd9"
      },
      "outputs": [],
      "source": [
        "regions = list(df.region.unique())"
      ]
    },
    {
      "cell_type": "code",
      "execution_count": 117,
      "id": "907ac06f",
      "metadata": {
        "id": "907ac06f",
        "colab": {
          "base_uri": "https://localhost:8080/"
        },
        "outputId": "db3f1ac1-9c7a-4700-acc8-3ced3b865138"
      },
      "outputs": [
        {
          "output_type": "execute_result",
          "data": {
            "text/plain": [
              "['Auvergne-Rhône-Alpes',\n",
              " 'Bourgogne-Franche-Comté',\n",
              " 'Bretagne',\n",
              " 'Centre-Val de Loire',\n",
              " 'Grand Est',\n",
              " 'Hauts-de-France',\n",
              " 'Normandie',\n",
              " 'Nouvelle-Aquitaine',\n",
              " 'Occitanie',\n",
              " 'Pays de la Loire',\n",
              " \"Provence-Alpes-Côte d'Azur\",\n",
              " 'Île-de-France']"
            ]
          },
          "metadata": {},
          "execution_count": 117
        }
      ],
      "source": [
        "regions"
      ]
    },
    {
      "cell_type": "code",
      "execution_count": 118,
      "id": "2e2704da",
      "metadata": {
        "id": "2e2704da",
        "colab": {
          "base_uri": "https://localhost:8080/",
          "height": 457
        },
        "outputId": "efc30758-7cf7-4d1d-d849-c66934fcd190"
      },
      "outputs": [
        {
          "output_type": "execute_result",
          "data": {
            "text/plain": [
              "                            consumption\n",
              "region                                 \n",
              "Auvergne-Rhône-Alpes               7495\n",
              "Bourgogne-Franche-Comté            2416\n",
              "Bretagne                           2546\n",
              "Centre-Val de Loire                2139\n",
              "Grand Est                          5155\n",
              "Hauts-de-France                    5726\n",
              "Normandie                          3168\n",
              "Nouvelle-Aquitaine                 4925\n",
              "Occitanie                          4266\n",
              "Pays de la Loire                   3077\n",
              "Provence-Alpes-Côte d'Azur         4656\n",
              "Île-de-France                      8008"
            ],
            "text/html": [
              "\n",
              "  <div id=\"df-344af27d-0ab2-4426-9b33-6291ec264ccb\" class=\"colab-df-container\">\n",
              "    <div>\n",
              "<style scoped>\n",
              "    .dataframe tbody tr th:only-of-type {\n",
              "        vertical-align: middle;\n",
              "    }\n",
              "\n",
              "    .dataframe tbody tr th {\n",
              "        vertical-align: top;\n",
              "    }\n",
              "\n",
              "    .dataframe thead th {\n",
              "        text-align: right;\n",
              "    }\n",
              "</style>\n",
              "<table border=\"1\" class=\"dataframe\">\n",
              "  <thead>\n",
              "    <tr style=\"text-align: right;\">\n",
              "      <th></th>\n",
              "      <th>consumption</th>\n",
              "    </tr>\n",
              "    <tr>\n",
              "      <th>region</th>\n",
              "      <th></th>\n",
              "    </tr>\n",
              "  </thead>\n",
              "  <tbody>\n",
              "    <tr>\n",
              "      <th>Auvergne-Rhône-Alpes</th>\n",
              "      <td>7495</td>\n",
              "    </tr>\n",
              "    <tr>\n",
              "      <th>Bourgogne-Franche-Comté</th>\n",
              "      <td>2416</td>\n",
              "    </tr>\n",
              "    <tr>\n",
              "      <th>Bretagne</th>\n",
              "      <td>2546</td>\n",
              "    </tr>\n",
              "    <tr>\n",
              "      <th>Centre-Val de Loire</th>\n",
              "      <td>2139</td>\n",
              "    </tr>\n",
              "    <tr>\n",
              "      <th>Grand Est</th>\n",
              "      <td>5155</td>\n",
              "    </tr>\n",
              "    <tr>\n",
              "      <th>Hauts-de-France</th>\n",
              "      <td>5726</td>\n",
              "    </tr>\n",
              "    <tr>\n",
              "      <th>Normandie</th>\n",
              "      <td>3168</td>\n",
              "    </tr>\n",
              "    <tr>\n",
              "      <th>Nouvelle-Aquitaine</th>\n",
              "      <td>4925</td>\n",
              "    </tr>\n",
              "    <tr>\n",
              "      <th>Occitanie</th>\n",
              "      <td>4266</td>\n",
              "    </tr>\n",
              "    <tr>\n",
              "      <th>Pays de la Loire</th>\n",
              "      <td>3077</td>\n",
              "    </tr>\n",
              "    <tr>\n",
              "      <th>Provence-Alpes-Côte d'Azur</th>\n",
              "      <td>4656</td>\n",
              "    </tr>\n",
              "    <tr>\n",
              "      <th>Île-de-France</th>\n",
              "      <td>8008</td>\n",
              "    </tr>\n",
              "  </tbody>\n",
              "</table>\n",
              "</div>\n",
              "    <div class=\"colab-df-buttons\">\n",
              "\n",
              "  <div class=\"colab-df-container\">\n",
              "    <button class=\"colab-df-convert\" onclick=\"convertToInteractive('df-344af27d-0ab2-4426-9b33-6291ec264ccb')\"\n",
              "            title=\"Convert this dataframe to an interactive table.\"\n",
              "            style=\"display:none;\">\n",
              "\n",
              "  <svg xmlns=\"http://www.w3.org/2000/svg\" height=\"24px\" viewBox=\"0 -960 960 960\">\n",
              "    <path d=\"M120-120v-720h720v720H120Zm60-500h600v-160H180v160Zm220 220h160v-160H400v160Zm0 220h160v-160H400v160ZM180-400h160v-160H180v160Zm440 0h160v-160H620v160ZM180-180h160v-160H180v160Zm440 0h160v-160H620v160Z\"/>\n",
              "  </svg>\n",
              "    </button>\n",
              "\n",
              "  <style>\n",
              "    .colab-df-container {\n",
              "      display:flex;\n",
              "      gap: 12px;\n",
              "    }\n",
              "\n",
              "    .colab-df-convert {\n",
              "      background-color: #E8F0FE;\n",
              "      border: none;\n",
              "      border-radius: 50%;\n",
              "      cursor: pointer;\n",
              "      display: none;\n",
              "      fill: #1967D2;\n",
              "      height: 32px;\n",
              "      padding: 0 0 0 0;\n",
              "      width: 32px;\n",
              "    }\n",
              "\n",
              "    .colab-df-convert:hover {\n",
              "      background-color: #E2EBFA;\n",
              "      box-shadow: 0px 1px 2px rgba(60, 64, 67, 0.3), 0px 1px 3px 1px rgba(60, 64, 67, 0.15);\n",
              "      fill: #174EA6;\n",
              "    }\n",
              "\n",
              "    .colab-df-buttons div {\n",
              "      margin-bottom: 4px;\n",
              "    }\n",
              "\n",
              "    [theme=dark] .colab-df-convert {\n",
              "      background-color: #3B4455;\n",
              "      fill: #D2E3FC;\n",
              "    }\n",
              "\n",
              "    [theme=dark] .colab-df-convert:hover {\n",
              "      background-color: #434B5C;\n",
              "      box-shadow: 0px 1px 3px 1px rgba(0, 0, 0, 0.15);\n",
              "      filter: drop-shadow(0px 1px 2px rgba(0, 0, 0, 0.3));\n",
              "      fill: #FFFFFF;\n",
              "    }\n",
              "  </style>\n",
              "\n",
              "    <script>\n",
              "      const buttonEl =\n",
              "        document.querySelector('#df-344af27d-0ab2-4426-9b33-6291ec264ccb button.colab-df-convert');\n",
              "      buttonEl.style.display =\n",
              "        google.colab.kernel.accessAllowed ? 'block' : 'none';\n",
              "\n",
              "      async function convertToInteractive(key) {\n",
              "        const element = document.querySelector('#df-344af27d-0ab2-4426-9b33-6291ec264ccb');\n",
              "        const dataTable =\n",
              "          await google.colab.kernel.invokeFunction('convertToInteractive',\n",
              "                                                    [key], {});\n",
              "        if (!dataTable) return;\n",
              "\n",
              "        const docLinkHtml = 'Like what you see? Visit the ' +\n",
              "          '<a target=\"_blank\" href=https://colab.research.google.com/notebooks/data_table.ipynb>data table notebook</a>'\n",
              "          + ' to learn more about interactive tables.';\n",
              "        element.innerHTML = '';\n",
              "        dataTable['output_type'] = 'display_data';\n",
              "        await google.colab.output.renderOutput(dataTable, element);\n",
              "        const docLink = document.createElement('div');\n",
              "        docLink.innerHTML = docLinkHtml;\n",
              "        element.appendChild(docLink);\n",
              "      }\n",
              "    </script>\n",
              "  </div>\n",
              "\n",
              "\n",
              "<div id=\"df-8894cee7-e240-4d14-a2cf-1fc78a3c0840\">\n",
              "  <button class=\"colab-df-quickchart\" onclick=\"quickchart('df-8894cee7-e240-4d14-a2cf-1fc78a3c0840')\"\n",
              "            title=\"Suggest charts.\"\n",
              "            style=\"display:none;\">\n",
              "\n",
              "<svg xmlns=\"http://www.w3.org/2000/svg\" height=\"24px\"viewBox=\"0 0 24 24\"\n",
              "     width=\"24px\">\n",
              "    <g>\n",
              "        <path d=\"M19 3H5c-1.1 0-2 .9-2 2v14c0 1.1.9 2 2 2h14c1.1 0 2-.9 2-2V5c0-1.1-.9-2-2-2zM9 17H7v-7h2v7zm4 0h-2V7h2v10zm4 0h-2v-4h2v4z\"/>\n",
              "    </g>\n",
              "</svg>\n",
              "  </button>\n",
              "\n",
              "<style>\n",
              "  .colab-df-quickchart {\n",
              "      --bg-color: #E8F0FE;\n",
              "      --fill-color: #1967D2;\n",
              "      --hover-bg-color: #E2EBFA;\n",
              "      --hover-fill-color: #174EA6;\n",
              "      --disabled-fill-color: #AAA;\n",
              "      --disabled-bg-color: #DDD;\n",
              "  }\n",
              "\n",
              "  [theme=dark] .colab-df-quickchart {\n",
              "      --bg-color: #3B4455;\n",
              "      --fill-color: #D2E3FC;\n",
              "      --hover-bg-color: #434B5C;\n",
              "      --hover-fill-color: #FFFFFF;\n",
              "      --disabled-bg-color: #3B4455;\n",
              "      --disabled-fill-color: #666;\n",
              "  }\n",
              "\n",
              "  .colab-df-quickchart {\n",
              "    background-color: var(--bg-color);\n",
              "    border: none;\n",
              "    border-radius: 50%;\n",
              "    cursor: pointer;\n",
              "    display: none;\n",
              "    fill: var(--fill-color);\n",
              "    height: 32px;\n",
              "    padding: 0;\n",
              "    width: 32px;\n",
              "  }\n",
              "\n",
              "  .colab-df-quickchart:hover {\n",
              "    background-color: var(--hover-bg-color);\n",
              "    box-shadow: 0 1px 2px rgba(60, 64, 67, 0.3), 0 1px 3px 1px rgba(60, 64, 67, 0.15);\n",
              "    fill: var(--button-hover-fill-color);\n",
              "  }\n",
              "\n",
              "  .colab-df-quickchart-complete:disabled,\n",
              "  .colab-df-quickchart-complete:disabled:hover {\n",
              "    background-color: var(--disabled-bg-color);\n",
              "    fill: var(--disabled-fill-color);\n",
              "    box-shadow: none;\n",
              "  }\n",
              "\n",
              "  .colab-df-spinner {\n",
              "    border: 2px solid var(--fill-color);\n",
              "    border-color: transparent;\n",
              "    border-bottom-color: var(--fill-color);\n",
              "    animation:\n",
              "      spin 1s steps(1) infinite;\n",
              "  }\n",
              "\n",
              "  @keyframes spin {\n",
              "    0% {\n",
              "      border-color: transparent;\n",
              "      border-bottom-color: var(--fill-color);\n",
              "      border-left-color: var(--fill-color);\n",
              "    }\n",
              "    20% {\n",
              "      border-color: transparent;\n",
              "      border-left-color: var(--fill-color);\n",
              "      border-top-color: var(--fill-color);\n",
              "    }\n",
              "    30% {\n",
              "      border-color: transparent;\n",
              "      border-left-color: var(--fill-color);\n",
              "      border-top-color: var(--fill-color);\n",
              "      border-right-color: var(--fill-color);\n",
              "    }\n",
              "    40% {\n",
              "      border-color: transparent;\n",
              "      border-right-color: var(--fill-color);\n",
              "      border-top-color: var(--fill-color);\n",
              "    }\n",
              "    60% {\n",
              "      border-color: transparent;\n",
              "      border-right-color: var(--fill-color);\n",
              "    }\n",
              "    80% {\n",
              "      border-color: transparent;\n",
              "      border-right-color: var(--fill-color);\n",
              "      border-bottom-color: var(--fill-color);\n",
              "    }\n",
              "    90% {\n",
              "      border-color: transparent;\n",
              "      border-bottom-color: var(--fill-color);\n",
              "    }\n",
              "  }\n",
              "</style>\n",
              "\n",
              "  <script>\n",
              "    async function quickchart(key) {\n",
              "      const quickchartButtonEl =\n",
              "        document.querySelector('#' + key + ' button');\n",
              "      quickchartButtonEl.disabled = true;  // To prevent multiple clicks.\n",
              "      quickchartButtonEl.classList.add('colab-df-spinner');\n",
              "      try {\n",
              "        const charts = await google.colab.kernel.invokeFunction(\n",
              "            'suggestCharts', [key], {});\n",
              "      } catch (error) {\n",
              "        console.error('Error during call to suggestCharts:', error);\n",
              "      }\n",
              "      quickchartButtonEl.classList.remove('colab-df-spinner');\n",
              "      quickchartButtonEl.classList.add('colab-df-quickchart-complete');\n",
              "    }\n",
              "    (() => {\n",
              "      let quickchartButtonEl =\n",
              "        document.querySelector('#df-8894cee7-e240-4d14-a2cf-1fc78a3c0840 button');\n",
              "      quickchartButtonEl.style.display =\n",
              "        google.colab.kernel.accessAllowed ? 'block' : 'none';\n",
              "    })();\n",
              "  </script>\n",
              "</div>\n",
              "    </div>\n",
              "  </div>\n"
            ]
          },
          "metadata": {},
          "execution_count": 118
        }
      ],
      "source": [
        "# average consumption per region\n",
        "df[[\"region\", \"consumption\"]].groupby(\"region\").mean().astype(int)"
      ]
    },
    {
      "cell_type": "code",
      "execution_count": 119,
      "id": "3ed15bbc",
      "metadata": {
        "id": "3ed15bbc",
        "colab": {
          "base_uri": "https://localhost:8080/"
        },
        "outputId": "cbc390a7-b432-4bca-eb0a-a94536d8f99f"
      },
      "outputs": [
        {
          "output_type": "execute_result",
          "data": {
            "text/plain": [
              "consumption    53582\n",
              "dtype: int64"
            ]
          },
          "metadata": {},
          "execution_count": 119
        }
      ],
      "source": [
        "# average consumption in France (MW)\n",
        "df[[\"region\", \"consumption\"]].groupby(\"region\").mean().sum().astype(int)"
      ]
    },
    {
      "cell_type": "code",
      "execution_count": 120,
      "id": "2ebdd086",
      "metadata": {
        "id": "2ebdd086"
      },
      "outputs": [],
      "source": [
        "# selection of a region\n",
        "region = \"Bretagne\"\n",
        "df_region = df[df.region == region]"
      ]
    },
    {
      "cell_type": "code",
      "execution_count": 121,
      "id": "bbb87de5",
      "metadata": {
        "id": "bbb87de5",
        "colab": {
          "base_uri": "https://localhost:8080/",
          "height": 472
        },
        "outputId": "2d41a0b6-e338-4946-a00b-3c5c1f83de35"
      },
      "outputs": [
        {
          "output_type": "display_data",
          "data": {
            "text/plain": [
              "<Figure size 640x480 with 1 Axes>"
            ],
            "image/png": "[encoded data removed]"
          },
          "metadata": {}
        }
      ],
      "source": [
        "# density (with kde = kernel density estimation)\n",
        "sns.kdeplot(data=df_region, x=\"consumption\", label=\"Data\", color='blue', fill=True)\n",
        "plt.title(region)\n",
        "plt.xlabel(\"Consumption (MW)\")\n",
        "plt.legend()\n",
        "plt.show()"
      ]
    },
    {
      "cell_type": "markdown",
      "id": "045ae627",
      "metadata": {
        "id": "045ae627"
      },
      "source": [
        "## A. Parameter estimation"
      ]
    },
    {
      "cell_type": "markdown",
      "id": "99972e6a",
      "metadata": {
        "id": "99972e6a"
      },
      "source": [
        "In all the project, the daily power consumptions are assumed to be i.i.d., with a Gaussian distribution.\n",
        "\n",
        "We use the following estimators for the mean and the variance, given $n$ observations $x_1,\\ldots,x_n$:\n",
        "$$\n",
        "\\hat \\mu = \\frac 1 n \\sum_{i=1}^n x_i\\quad \\hat{\\sigma^2} = \\frac 1 {n-1}\\sum_{i=1}^n (x_i - \\hat \\mu)^2\n",
        "$$\n",
        "The corresponding estimate of the standard deviation is:\n",
        "$$\n",
        "\\hat \\sigma = \\sqrt{\\hat{\\sigma^2}}\n",
        "$$\n",
        "\n",
        "Consider the region Bretagne.\n",
        "\n",
        "1. Show that the estimators for the mean and the variance are unbiased."
      ]
    },
    {
      "cell_type": "markdown",
      "id": "fc43c835",
      "metadata": {
        "id": "fc43c835"
      },
      "source": [
        "Your answer:\n",
        "\n",
        "$$\n",
        "E ( \\hat \\mu ) =E( \\frac 1 n \\sum_{i=1}^n x_i)\n",
        "=\\frac 1 n E(  \\sum_{i=1}^n x_i)\n",
        "=\\frac 1 n nE(  x_1)\n",
        "=(\\mu )\n",
        "$$\n",
        "\n",
        "so the estimator for the mean is unbiased\n",
        "\n",
        "Now for the variance\n",
        "\n",
        "$$\n",
        "E(\\sigma^2) = \\frac 1 {n-1}\\sum_{i=1}^n E[(x_i - \\hat \\mu)^2] = \\frac 1 {n-1}\\sum_{i=1}^n Var(x_i - \\hat \\mu) + E(x_i - \\hat \\mu)^2\n",
        "$$\n",
        "\n",
        "$$\n",
        "= \\frac 1 {n-1}\\sum_{i=1}^n \\frac{n-1}{n} \\sigma^2 + 0\n",
        "$$\n",
        "\n",
        "$$\n",
        "E(\\sigma^2) = \\frac 1 {n-1}\\sum_{i=1}^n \\frac{n-1}{n} \\sigma^2 = \\sigma^2\n",
        "$$\n",
        "\n",
        "So that the estimator for the variance is unbiased"
      ]
    },
    {
      "cell_type": "markdown",
      "id": "259c0fed",
      "metadata": {
        "id": "259c0fed"
      },
      "source": [
        "2. Give the values obtained for the mean and the standard deviation using these estimators."
      ]
    },
    {
      "cell_type": "code",
      "execution_count": 122,
      "id": "d51c8554",
      "metadata": {
        "id": "d51c8554",
        "colab": {
          "base_uri": "https://localhost:8080/"
        },
        "outputId": "444ed5a4-15a5-43df-b0f9-c0c4ad3cccd1"
      },
      "outputs": [
        {
          "output_type": "stream",
          "name": "stdout",
          "text": [
            "average: 2546.536155666579\n",
            "standard deviation: 604.9429842099305\n"
          ]
        }
      ],
      "source": [
        "region = \"Bretagne\"\n",
        "df_region = df[df.region == region]\n",
        "\n",
        "consumption = list(df_region.consumption)\n",
        "\n",
        "def average():\n",
        "  sumi = 0\n",
        "  for value in consumption:\n",
        "    sumi += value\n",
        "  return (sumi/len(consumption))\n",
        "\n",
        "average = average()\n",
        "\n",
        "def standardDeviation():\n",
        "  sumi = 0\n",
        "  for value in consumption:\n",
        "    sumi += (value - average)**2\n",
        "  return ((sumi/(len(consumption)-1))**(1/2))\n",
        "\n",
        "standardDeviation = standardDeviation()\n",
        "\n",
        "print('average: ' + str(average))\n",
        "print('standard deviation: ' + str(standardDeviation))"
      ]
    },
    {
      "cell_type": "markdown",
      "id": "d0c9e4bf",
      "metadata": {
        "id": "d0c9e4bf"
      },
      "source": [
        "3. Generate new data using the corresponding Gaussian model, with the same number of samples."
      ]
    },
    {
      "cell_type": "code",
      "execution_count": 123,
      "id": "baedf3c5",
      "metadata": {
        "id": "baedf3c5",
        "colab": {
          "base_uri": "https://localhost:8080/"
        },
        "outputId": "838d1a7f-93d9-4737-c3f4-7531d0eb438e"
      },
      "outputs": [
        {
          "output_type": "stream",
          "name": "stdout",
          "text": [
            "[2264.55855283 2473.68399792 2580.34983304 ... 2181.70630976 2582.35992545\n",
            " 2521.4484002 ]\n"
          ]
        }
      ],
      "source": [
        "new_data = np.random.normal(average, standardDeviation, len(consumption))\n",
        "print(new_data)"
      ]
    },
    {
      "cell_type": "markdown",
      "id": "87a6506c",
      "metadata": {
        "id": "87a6506c"
      },
      "source": [
        "4. Plot the *kde* (kernel density estimate) of real data and the *kde* of generated data on the same figure."
      ]
    },
    {
      "cell_type": "code",
      "execution_count": 124,
      "id": "4bfd9db4",
      "metadata": {
        "id": "4bfd9db4",
        "colab": {
          "base_uri": "https://localhost:8080/",
          "height": 472
        },
        "outputId": "fbca13d7-54d8-43d5-cb22-dda3c9d7a624"
      },
      "outputs": [
        {
          "output_type": "display_data",
          "data": {
            "text/plain": [
              "<Figure size 640x480 with 1 Axes>"
            ],
            "image/png": "[encoded data removed]"
          },
          "metadata": {}
        }
      ],
      "source": [
        "# density (with kde = kernel density estimation)\n",
        "sns.kdeplot(data=consumption, label=\"Data\", color='blue', fill=True)\n",
        "sns.kdeplot(new_data, label='new data', color='red', fill=True)\n",
        "plt.title('real data and new data')\n",
        "plt.xlabel(\"Consumption (MW)\")\n",
        "plt.legend()\n",
        "plt.show()"
      ]
    },
    {
      "cell_type": "markdown",
      "id": "fc054c89",
      "metadata": {
        "id": "fc054c89"
      },
      "source": [
        "5. Do the same for the days corresponding to winter (from December 22 to March 21), after updating the model."
      ]
    },
    {
      "cell_type": "code",
      "execution_count": 140,
      "id": "5a67eb62",
      "metadata": {
        "id": "5a67eb62",
        "colab": {
          "base_uri": "https://localhost:8080/",
          "height": 507
        },
        "outputId": "61858b21-1a31-4e6e-a93a-ea62f4cbf483"
      },
      "outputs": [
        {
          "output_type": "display_data",
          "data": {
            "text/plain": [
              "<Figure size 640x480 with 1 Axes>"
            ],
            "image/png": "[encoded data removed]"
          },
          "metadata": {}
        },
        {
          "output_type": "stream",
          "name": "stdout",
          "text": [
            "standard deviation: 408.8623309768853\n",
            "average: 3215.0040733197557\n"
          ]
        }
      ],
      "source": [
        "# selection of a region\n",
        "region = \"Bretagne\"\n",
        "df_regionB = df[df.region == region]\n",
        "\n",
        "# Assuming 'date' is in datetime format\n",
        "df_regionB['date'] = pd.to_datetime(df_regionB['date'])\n",
        "\n",
        "# Calculate the day of the year\n",
        "df_regionB['day_of_year'] = df_regionB['date'].dt.dayofyear\n",
        "\n",
        "# Define the range for winter days (from day 356 to day 80)\n",
        "winter_data = df_regionB[(df_regionB['day_of_year'] >= 356) | (df_regionB['day_of_year'] <= 80)]\n",
        "\n",
        "# Drop the 'day_of_year' column if you don't need it\n",
        "winter_dataB = winter_data.drop(columns=['day_of_year'])\n",
        "\n",
        "consumption = list(winter_dataB['consumption'])\n",
        "\n",
        "def average():\n",
        "  sumi = 0\n",
        "  for value in consumption:\n",
        "    sumi += value\n",
        "  return (sumi/len(consumption))\n",
        "\n",
        "average = average()\n",
        "\n",
        "def standardDeviation():\n",
        "  sumi = 0\n",
        "  for value in consumption:\n",
        "    sumi += (value - average)**2\n",
        "  return ((sumi/(len(consumption)-1))**(1/2))\n",
        "\n",
        "standardDeviation = standardDeviation()\n",
        "\n",
        "new_data = np.random.normal(average, standardDeviation, len(consumption))\n",
        "\n",
        "sns.kdeplot(data=consumption, label=\"Data\", color='blue', fill=True)\n",
        "sns.kdeplot(new_data, label='new data', color='red', fill=True)\n",
        "plt.title('real data and new data')\n",
        "plt.xlabel(\"Consumption (MW)\")\n",
        "plt.legend()\n",
        "plt.show()\n",
        "\n",
        "print('standard deviation: ' + str(standardDeviation))\n",
        "print('average: ' + str(average))\n",
        "\n",
        "\n",
        "\n",
        "\n"
      ]
    },
    {
      "cell_type": "markdown",
      "id": "2c341977",
      "metadata": {
        "id": "2c341977"
      },
      "source": [
        "6. In which case the Gaussian model seems more appropriate?"
      ]
    },
    {
      "cell_type": "markdown",
      "source": [
        "In the case of the winter values, perhaps due to the fact that there is more use in that season and that we are taking the same season where the use is more similar instead of using data from all seasons."
      ],
      "metadata": {
        "id": "504ghDA40_Tz"
      },
      "id": "504ghDA40_Tz"
    },
    {
      "cell_type": "markdown",
      "id": "3b396ff6",
      "metadata": {
        "id": "3b396ff6"
      },
      "source": [
        "## B. Goodness of fit"
      ]
    },
    {
      "cell_type": "markdown",
      "id": "b5d39610",
      "metadata": {
        "id": "b5d39610"
      },
      "source": [
        "We would like to confirm and quantify the observation of part A.\n",
        "\n",
        "We propose the following metric to measure the dissimilarity between two pdf $f$ and $g$ (with respect to the Lebesgue measure):\n",
        "$$\n",
        "d(f, g) = \\frac 1 2 \\int |f(x) - g(x)| \\mathrm dx.\n",
        "$$"
      ]
    },
    {
      "cell_type": "markdown",
      "id": "87b5684d",
      "metadata": {
        "id": "87b5684d"
      },
      "source": [
        "1. Show that $d(f,g) \\in [0,1]$, with $d(f,g)=0$ if and only if $f=g$ almost everywhere (for the Lebesgue measure) and $d(f,g)=1$ if and only if $f$ and $g$ have disjoint supports."
      ]
    },
    {
      "cell_type": "markdown",
      "id": "397f4544",
      "metadata": {
        "id": "397f4544"
      },
      "source": [
        "Your answser:\n",
        "\n",
        "\n",
        "I. $d(f, g) \\in [0, 1]$.\n",
        "\n",
        "For the lower bound, since $|f(x) - g(x)|$ is the absolute value then it's grater or equal to 0. So $d(f, g) \\geq 0$.\n",
        "\n",
        "For the upper bound, we know that $|f(x) +(- g(x))| \\leq |f(x)| + |-g(x)|$ and since $g(x) \\geq 0$ then $|f(x) +(- g(x))| \\leq |f(x)| + |g(x)| = f(x) + g(x)$.  for all $x$. where:\n",
        "\n",
        "$$\n",
        "\\int f(x) \\, dx + \\int g(x) \\, dx = 1 + 1 = 2.\n",
        "$$\n",
        "\n",
        "then:\n",
        "\n",
        "$$\n",
        "d(f, g) = \\frac{1}{2} \\int |f(x) - g(x)| \\, dx \\leq \\frac{1}{2} \\int (f(x) + g(x)) \\, dx = \\frac{1}{2} \\times 2 = 1.\n",
        "$$\n",
        "\n",
        "So, $d(f, g) \\leq 1$.\n",
        "\n",
        "II. $d(f,g)=0$ if and only if $f=g$ almost everywhere (for the Lebesgue measure)\n",
        "if $f=g$ then $|f(x)-g(x)|=0$ so\n",
        "\n",
        "$$ d(f,g) = \\frac{1}{2} \\int 0 dx = 0 $$\n",
        "\n",
        "Now if $d(f,g)=0$ then $\\frac{1}{2} \\int |f(x) - g(x)| \\, dx = 0 ->$ $ \\int |f(x) - g(x)| \\, dx = 0$ and it only happens if $f=g$\n",
        "\n",
        "\n",
        "III. $d(f,g)=1$ if and only if $f$ and $g$ have disjoint supports.\n",
        "\n",
        "if $f$ and $g$ have disjoint supports then $|f(x) - g(x)|\\, dx= 2 $\n",
        "so that $d(f,g)=1$\n",
        "\n",
        "Now if $d(f,g)=1$ then $\\frac{1}{2} \\int |f(x) - g(x)| \\, dx = 1 ->$ $ \\int |f(x) - g(x)| \\, dx = 2$ and it only happens if $f(x)$ and $g(x)$ have disjoint support\n"
      ]
    },
    {
      "cell_type": "markdown",
      "id": "ae7d158a",
      "metadata": {
        "id": "ae7d158a"
      },
      "source": [
        "2. For the region Bretagne, compute the dissimilarity between the *kde* of real data and the density of the Gaussian model."
      ]
    },
    {
      "cell_type": "code",
      "execution_count": 126,
      "id": "43801814",
      "metadata": {
        "id": "43801814",
        "colab": {
          "base_uri": "https://localhost:8080/"
        },
        "outputId": "e9cea1ec-0ff2-414f-eb81-e792c475b3cf"
      },
      "outputs": [
        {
          "output_type": "stream",
          "name": "stdout",
          "text": [
            "the dissimilarity is 0.1617828808080711\n"
          ]
        }
      ],
      "source": [
        "region = \"Bretagne\"\n",
        "df_region = df[df.region == region]\n",
        "\n",
        "consumptionB = df_region.consumption\n",
        "\n",
        "def average():\n",
        "  sumi = 0\n",
        "  for value in consumptionB:\n",
        "    sumi += value\n",
        "  return (sumi/len(consumptionB))\n",
        "\n",
        "average = average()\n",
        "\n",
        "def standardDeviation():\n",
        "  sumi = 0\n",
        "  for value in consumptionB:\n",
        "    sumi += (value - average)**2\n",
        "  return ((sumi/(len(consumptionB)-1))**(1/2))\n",
        "\n",
        "standardDeviation = standardDeviation()\n",
        "\n",
        "# Calculate KDE\n",
        "kde = gaussian_kde(consumptionB)\n",
        "\n",
        "# Define points for evaluation\n",
        "evaluation_points = np.linspace(min(consumptionB), max(consumptionB), len(consumptionB))\n",
        "\n",
        "# Calculate the values\n",
        "density = kde(evaluation_points)\n",
        "pdf_g_values = norm.pdf(evaluation_points, average, standardDeviation)\n",
        "\n",
        "# Calculate the absolute difference between the two PDFs\n",
        "abs_diff = np.abs(density - pdf_g_values)\n",
        "#calculate the integral\n",
        "dissimilarity = (1/2)*np.trapz(abs_diff, evaluation_points)\n",
        "\n",
        "print('the dissimilarity is ' + str(dissimilarity))\n",
        "\n"
      ]
    },
    {
      "cell_type": "markdown",
      "id": "f8817106",
      "metadata": {
        "id": "f8817106"
      },
      "source": [
        "3. Do the same for the region Bretagne in winter and check your conclusion of part A."
      ]
    },
    {
      "cell_type": "code",
      "execution_count": 127,
      "id": "7b15a902",
      "metadata": {
        "id": "7b15a902",
        "colab": {
          "base_uri": "https://localhost:8080/"
        },
        "outputId": "b6b59888-e350-4642-d43e-d7dc45e38ec5"
      },
      "outputs": [
        {
          "output_type": "stream",
          "name": "stdout",
          "text": [
            "the dissimilarity in winter is 0.029409939676882546\n"
          ]
        }
      ],
      "source": [
        "# selection of a region\n",
        "region = \"Bretagne\"\n",
        "df_regionB = df[df.region == region]\n",
        "\n",
        "# Assuming 'date' is in datetime format\n",
        "df_regionB['date'] = pd.to_datetime(df_regionB['date'])\n",
        "\n",
        "# Calculate the day of the year\n",
        "df_regionB['day_of_year'] = df_regionB['date'].dt.dayofyear\n",
        "\n",
        "# Define the range for winter days (from day 356 to day 80)\n",
        "winter_data = df_regionB[(df_regionB['day_of_year'] >= 356) | (df_regionB['day_of_year'] <= 80)]\n",
        "\n",
        "# Drop the 'day_of_year' column if you don't need it\n",
        "winter_dataB = winter_data.drop(columns=['day_of_year'])\n",
        "\n",
        "consumptionB = list(winter_dataB['consumption'])\n",
        "\n",
        "def average():\n",
        "  sumi = 0\n",
        "  for value in consumptionB:\n",
        "    sumi += value\n",
        "  return (sumi/len(consumptionB))\n",
        "\n",
        "average = average()\n",
        "\n",
        "def standardDeviation():\n",
        "  sumi = 0\n",
        "  for value in consumptionB:\n",
        "    sumi += (value - average)**2\n",
        "  return ((sumi/(len(consumptionB)-1))**(1/2))\n",
        "\n",
        "standardDeviation = standardDeviation()\n",
        "\n",
        "# Calculate KDE\n",
        "kde = gaussian_kde(consumptionB)\n",
        "\n",
        "# Define points for evaluation\n",
        "evaluation_points = np.linspace(min(consumptionB), max(consumptionB), len(consumptionB))\n",
        "\n",
        "# Calculate the values\n",
        "density = kde(evaluation_points)\n",
        "pdf_g_values = norm.pdf(evaluation_points, average, standardDeviation)\n",
        "\n",
        "# Calculate the absolute difference between the two PDFs\n",
        "abs_diff = np.abs(density - pdf_g_values)\n",
        "#calculate the integral\n",
        "dissimilarity = (1/2)*np.trapz(abs_diff, evaluation_points)\n",
        "\n",
        "print('the dissimilarity in winter is ' + str(dissimilarity))\n",
        "\n",
        "\n",
        "\n"
      ]
    },
    {
      "cell_type": "markdown",
      "id": "7d78fec0",
      "metadata": {
        "id": "7d78fec0"
      },
      "source": [
        "4. Do the same for all regions. Give the result as a single dataframe."
      ]
    },
    {
      "cell_type": "code",
      "execution_count": 128,
      "id": "fef07b23",
      "metadata": {
        "id": "fef07b23",
        "colab": {
          "base_uri": "https://localhost:8080/",
          "height": 426
        },
        "outputId": "97b5496a-880a-44c6-d4bb-b8bf53f8fb78"
      },
      "outputs": [
        {
          "output_type": "execute_result",
          "data": {
            "text/plain": [
              "                        region  dissimilarity\n",
              "0         Auvergne-Rhône-Alpes       0.038520\n",
              "1      Bourgogne-Franche-Comté       0.037894\n",
              "2                     Bretagne       0.029410\n",
              "3          Centre-Val de Loire       0.042906\n",
              "4                    Grand Est       0.038165\n",
              "5              Hauts-de-France       0.026672\n",
              "6                    Normandie       0.041617\n",
              "7           Nouvelle-Aquitaine       0.053124\n",
              "8                    Occitanie       0.059935\n",
              "9             Pays de la Loire       0.038166\n",
              "10  Provence-Alpes-Côte d'Azur       0.034823\n",
              "11               Île-de-France       0.051163"
            ],
            "text/html": [
              "\n",
              "  <div id=\"df-cd9ec941-fe0d-4e93-aa5c-3c0644a90a1c\" class=\"colab-df-container\">\n",
              "    <div>\n",
              "<style scoped>\n",
              "    .dataframe tbody tr th:only-of-type {\n",
              "        vertical-align: middle;\n",
              "    }\n",
              "\n",
              "    .dataframe tbody tr th {\n",
              "        vertical-align: top;\n",
              "    }\n",
              "\n",
              "    .dataframe thead th {\n",
              "        text-align: right;\n",
              "    }\n",
              "</style>\n",
              "<table border=\"1\" class=\"dataframe\">\n",
              "  <thead>\n",
              "    <tr style=\"text-align: right;\">\n",
              "      <th></th>\n",
              "      <th>region</th>\n",
              "      <th>dissimilarity</th>\n",
              "    </tr>\n",
              "  </thead>\n",
              "  <tbody>\n",
              "    <tr>\n",
              "      <th>0</th>\n",
              "      <td>Auvergne-Rhône-Alpes</td>\n",
              "      <td>0.038520</td>\n",
              "    </tr>\n",
              "    <tr>\n",
              "      <th>1</th>\n",
              "      <td>Bourgogne-Franche-Comté</td>\n",
              "      <td>0.037894</td>\n",
              "    </tr>\n",
              "    <tr>\n",
              "      <th>2</th>\n",
              "      <td>Bretagne</td>\n",
              "      <td>0.029410</td>\n",
              "    </tr>\n",
              "    <tr>\n",
              "      <th>3</th>\n",
              "      <td>Centre-Val de Loire</td>\n",
              "      <td>0.042906</td>\n",
              "    </tr>\n",
              "    <tr>\n",
              "      <th>4</th>\n",
              "      <td>Grand Est</td>\n",
              "      <td>0.038165</td>\n",
              "    </tr>\n",
              "    <tr>\n",
              "      <th>5</th>\n",
              "      <td>Hauts-de-France</td>\n",
              "      <td>0.026672</td>\n",
              "    </tr>\n",
              "    <tr>\n",
              "      <th>6</th>\n",
              "      <td>Normandie</td>\n",
              "      <td>0.041617</td>\n",
              "    </tr>\n",
              "    <tr>\n",
              "      <th>7</th>\n",
              "      <td>Nouvelle-Aquitaine</td>\n",
              "      <td>0.053124</td>\n",
              "    </tr>\n",
              "    <tr>\n",
              "      <th>8</th>\n",
              "      <td>Occitanie</td>\n",
              "      <td>0.059935</td>\n",
              "    </tr>\n",
              "    <tr>\n",
              "      <th>9</th>\n",
              "      <td>Pays de la Loire</td>\n",
              "      <td>0.038166</td>\n",
              "    </tr>\n",
              "    <tr>\n",
              "      <th>10</th>\n",
              "      <td>Provence-Alpes-Côte d'Azur</td>\n",
              "      <td>0.034823</td>\n",
              "    </tr>\n",
              "    <tr>\n",
              "      <th>11</th>\n",
              "      <td>Île-de-France</td>\n",
              "      <td>0.051163</td>\n",
              "    </tr>\n",
              "  </tbody>\n",
              "</table>\n",
              "</div>\n",
              "    <div class=\"colab-df-buttons\">\n",
              "\n",
              "  <div class=\"colab-df-container\">\n",
              "    <button class=\"colab-df-convert\" onclick=\"convertToInteractive('df-cd9ec941-fe0d-4e93-aa5c-3c0644a90a1c')\"\n",
              "            title=\"Convert this dataframe to an interactive table.\"\n",
              "            style=\"display:none;\">\n",
              "\n",
              "  <svg xmlns=\"http://www.w3.org/2000/svg\" height=\"24px\" viewBox=\"0 -960 960 960\">\n",
              "    <path d=\"M120-120v-720h720v720H120Zm60-500h600v-160H180v160Zm220 220h160v-160H400v160Zm0 220h160v-160H400v160ZM180-400h160v-160H180v160Zm440 0h160v-160H620v160ZM180-180h160v-160H180v160Zm440 0h160v-160H620v160Z\"/>\n",
              "  </svg>\n",
              "    </button>\n",
              "\n",
              "  <style>\n",
              "    .colab-df-container {\n",
              "      display:flex;\n",
              "      gap: 12px;\n",
              "    }\n",
              "\n",
              "    .colab-df-convert {\n",
              "      background-color: #E8F0FE;\n",
              "      border: none;\n",
              "      border-radius: 50%;\n",
              "      cursor: pointer;\n",
              "      display: none;\n",
              "      fill: #1967D2;\n",
              "      height: 32px;\n",
              "      padding: 0 0 0 0;\n",
              "      width: 32px;\n",
              "    }\n",
              "\n",
              "    .colab-df-convert:hover {\n",
              "      background-color: #E2EBFA;\n",
              "      box-shadow: 0px 1px 2px rgba(60, 64, 67, 0.3), 0px 1px 3px 1px rgba(60, 64, 67, 0.15);\n",
              "      fill: #174EA6;\n",
              "    }\n",
              "\n",
              "    .colab-df-buttons div {\n",
              "      margin-bottom: 4px;\n",
              "    }\n",
              "\n",
              "    [theme=dark] .colab-df-convert {\n",
              "      background-color: #3B4455;\n",
              "      fill: #D2E3FC;\n",
              "    }\n",
              "\n",
              "    [theme=dark] .colab-df-convert:hover {\n",
              "      background-color: #434B5C;\n",
              "      box-shadow: 0px 1px 3px 1px rgba(0, 0, 0, 0.15);\n",
              "      filter: drop-shadow(0px 1px 2px rgba(0, 0, 0, 0.3));\n",
              "      fill: #FFFFFF;\n",
              "    }\n",
              "  </style>\n",
              "\n",
              "    <script>\n",
              "      const buttonEl =\n",
              "        document.querySelector('#df-cd9ec941-fe0d-4e93-aa5c-3c0644a90a1c button.colab-df-convert');\n",
              "      buttonEl.style.display =\n",
              "        google.colab.kernel.accessAllowed ? 'block' : 'none';\n",
              "\n",
              "      async function convertToInteractive(key) {\n",
              "        const element = document.querySelector('#df-cd9ec941-fe0d-4e93-aa5c-3c0644a90a1c');\n",
              "        const dataTable =\n",
              "          await google.colab.kernel.invokeFunction('convertToInteractive',\n",
              "                                                    [key], {});\n",
              "        if (!dataTable) return;\n",
              "\n",
              "        const docLinkHtml = 'Like what you see? Visit the ' +\n",
              "          '<a target=\"_blank\" href=https://colab.research.google.com/notebooks/data_table.ipynb>data table notebook</a>'\n",
              "          + ' to learn more about interactive tables.';\n",
              "        element.innerHTML = '';\n",
              "        dataTable['output_type'] = 'display_data';\n",
              "        await google.colab.output.renderOutput(dataTable, element);\n",
              "        const docLink = document.createElement('div');\n",
              "        docLink.innerHTML = docLinkHtml;\n",
              "        element.appendChild(docLink);\n",
              "      }\n",
              "    </script>\n",
              "  </div>\n",
              "\n",
              "\n",
              "<div id=\"df-309c8ba0-cb41-4a99-8f84-9f1b1730f0dc\">\n",
              "  <button class=\"colab-df-quickchart\" onclick=\"quickchart('df-309c8ba0-cb41-4a99-8f84-9f1b1730f0dc')\"\n",
              "            title=\"Suggest charts.\"\n",
              "            style=\"display:none;\">\n",
              "\n",
              "<svg xmlns=\"http://www.w3.org/2000/svg\" height=\"24px\"viewBox=\"0 0 24 24\"\n",
              "     width=\"24px\">\n",
              "    <g>\n",
              "        <path d=\"M19 3H5c-1.1 0-2 .9-2 2v14c0 1.1.9 2 2 2h14c1.1 0 2-.9 2-2V5c0-1.1-.9-2-2-2zM9 17H7v-7h2v7zm4 0h-2V7h2v10zm4 0h-2v-4h2v4z\"/>\n",
              "    </g>\n",
              "</svg>\n",
              "  </button>\n",
              "\n",
              "<style>\n",
              "  .colab-df-quickchart {\n",
              "      --bg-color: #E8F0FE;\n",
              "      --fill-color: #1967D2;\n",
              "      --hover-bg-color: #E2EBFA;\n",
              "      --hover-fill-color: #174EA6;\n",
              "      --disabled-fill-color: #AAA;\n",
              "      --disabled-bg-color: #DDD;\n",
              "  }\n",
              "\n",
              "  [theme=dark] .colab-df-quickchart {\n",
              "      --bg-color: #3B4455;\n",
              "      --fill-color: #D2E3FC;\n",
              "      --hover-bg-color: #434B5C;\n",
              "      --hover-fill-color: #FFFFFF;\n",
              "      --disabled-bg-color: #3B4455;\n",
              "      --disabled-fill-color: #666;\n",
              "  }\n",
              "\n",
              "  .colab-df-quickchart {\n",
              "    background-color: var(--bg-color);\n",
              "    border: none;\n",
              "    border-radius: 50%;\n",
              "    cursor: pointer;\n",
              "    display: none;\n",
              "    fill: var(--fill-color);\n",
              "    height: 32px;\n",
              "    padding: 0;\n",
              "    width: 32px;\n",
              "  }\n",
              "\n",
              "  .colab-df-quickchart:hover {\n",
              "    background-color: var(--hover-bg-color);\n",
              "    box-shadow: 0 1px 2px rgba(60, 64, 67, 0.3), 0 1px 3px 1px rgba(60, 64, 67, 0.15);\n",
              "    fill: var(--button-hover-fill-color);\n",
              "  }\n",
              "\n",
              "  .colab-df-quickchart-complete:disabled,\n",
              "  .colab-df-quickchart-complete:disabled:hover {\n",
              "    background-color: var(--disabled-bg-color);\n",
              "    fill: var(--disabled-fill-color);\n",
              "    box-shadow: none;\n",
              "  }\n",
              "\n",
              "  .colab-df-spinner {\n",
              "    border: 2px solid var(--fill-color);\n",
              "    border-color: transparent;\n",
              "    border-bottom-color: var(--fill-color);\n",
              "    animation:\n",
              "      spin 1s steps(1) infinite;\n",
              "  }\n",
              "\n",
              "  @keyframes spin {\n",
              "    0% {\n",
              "      border-color: transparent;\n",
              "      border-bottom-color: var(--fill-color);\n",
              "      border-left-color: var(--fill-color);\n",
              "    }\n",
              "    20% {\n",
              "      border-color: transparent;\n",
              "      border-left-color: var(--fill-color);\n",
              "      border-top-color: var(--fill-color);\n",
              "    }\n",
              "    30% {\n",
              "      border-color: transparent;\n",
              "      border-left-color: var(--fill-color);\n",
              "      border-top-color: var(--fill-color);\n",
              "      border-right-color: var(--fill-color);\n",
              "    }\n",
              "    40% {\n",
              "      border-color: transparent;\n",
              "      border-right-color: var(--fill-color);\n",
              "      border-top-color: var(--fill-color);\n",
              "    }\n",
              "    60% {\n",
              "      border-color: transparent;\n",
              "      border-right-color: var(--fill-color);\n",
              "    }\n",
              "    80% {\n",
              "      border-color: transparent;\n",
              "      border-right-color: var(--fill-color);\n",
              "      border-bottom-color: var(--fill-color);\n",
              "    }\n",
              "    90% {\n",
              "      border-color: transparent;\n",
              "      border-bottom-color: var(--fill-color);\n",
              "    }\n",
              "  }\n",
              "</style>\n",
              "\n",
              "  <script>\n",
              "    async function quickchart(key) {\n",
              "      const quickchartButtonEl =\n",
              "        document.querySelector('#' + key + ' button');\n",
              "      quickchartButtonEl.disabled = true;  // To prevent multiple clicks.\n",
              "      quickchartButtonEl.classList.add('colab-df-spinner');\n",
              "      try {\n",
              "        const charts = await google.colab.kernel.invokeFunction(\n",
              "            'suggestCharts', [key], {});\n",
              "      } catch (error) {\n",
              "        console.error('Error during call to suggestCharts:', error);\n",
              "      }\n",
              "      quickchartButtonEl.classList.remove('colab-df-spinner');\n",
              "      quickchartButtonEl.classList.add('colab-df-quickchart-complete');\n",
              "    }\n",
              "    (() => {\n",
              "      let quickchartButtonEl =\n",
              "        document.querySelector('#df-309c8ba0-cb41-4a99-8f84-9f1b1730f0dc button');\n",
              "      quickchartButtonEl.style.display =\n",
              "        google.colab.kernel.accessAllowed ? 'block' : 'none';\n",
              "    })();\n",
              "  </script>\n",
              "</div>\n",
              "    </div>\n",
              "  </div>\n"
            ]
          },
          "metadata": {},
          "execution_count": 128
        }
      ],
      "source": [
        "dissimilarity_list = []\n",
        "regions_list = []\n",
        "\n",
        "for regionk in regions :\n",
        "    # selection of a region\n",
        "    region = regionk\n",
        "    df_regionB = df[df.region == region]\n",
        "\n",
        "    # Assuming 'date' is in datetime format\n",
        "    df_regionB['date'] = pd.to_datetime(df_regionB['date'])\n",
        "\n",
        "    # Calculate the day of the year\n",
        "    df_regionB['day_of_year'] = df_regionB['date'].dt.dayofyear\n",
        "\n",
        "    # Define the range for winter days (from day 356 to day 80)\n",
        "    winter_data = df_regionB[(df_regionB['day_of_year'] >= 356) | (df_regionB['day_of_year'] <= 80)]\n",
        "\n",
        "    # Drop the 'day_of_year' column if you don't need it\n",
        "    winter_dataB = winter_data.drop(columns=['day_of_year'])\n",
        "\n",
        "    consumptionB = list(winter_dataB['consumption'])\n",
        "\n",
        "    def average():\n",
        "      sumi = 0\n",
        "      for value in consumptionB:\n",
        "        sumi += value\n",
        "      return (sumi/len(consumptionB))\n",
        "\n",
        "    average = average()\n",
        "\n",
        "    def standardDeviation():\n",
        "      sumi = 0\n",
        "      for value in consumptionB:\n",
        "        sumi += (value - average)**2\n",
        "      return ((sumi/(len(consumptionB)-1))**(1/2))\n",
        "\n",
        "    standardDeviation = standardDeviation()\n",
        "\n",
        "    # Calculate KDE\n",
        "    kde = gaussian_kde(consumptionB)\n",
        "\n",
        "    # Define points for evaluation\n",
        "    evaluation_points = np.linspace(min(consumptionB), max(consumptionB), len(consumptionB))\n",
        "\n",
        "    # Calculate the values\n",
        "    density = kde(evaluation_points)\n",
        "    pdf_g_values = norm.pdf(evaluation_points, average, standardDeviation)\n",
        "\n",
        "    # Calculate the absolute difference between the two PDFs\n",
        "    abs_diff = np.abs(density - pdf_g_values)\n",
        "    #calculate the integral\n",
        "    dissimilarity = (1/2)*np.trapz(abs_diff, evaluation_points)\n",
        "    dissimilarity_list.append(dissimilarity)\n",
        "    regions_list.append(region)\n",
        "\n",
        "\n",
        "# Create a DataFrame with the dissimilarity and the regions\n",
        "df_dissimilarity = pd.DataFrame({'region': regions_list , 'dissimilarity': dissimilarity_list})\n",
        "df_dissimilarity"
      ]
    },
    {
      "cell_type": "markdown",
      "id": "3f0d3f61",
      "metadata": {
        "id": "3f0d3f61"
      },
      "source": [
        "5. Which region is best fitted by a Gaussian model in winter?"
      ]
    },
    {
      "cell_type": "code",
      "execution_count": 129,
      "id": "251b89b1",
      "metadata": {
        "id": "251b89b1",
        "colab": {
          "base_uri": "https://localhost:8080/"
        },
        "outputId": "400e9107-82d7-49ac-ad37-b8392c304fd5"
      },
      "outputs": [
        {
          "output_type": "stream",
          "name": "stdout",
          "text": [
            "Hauts-de-France\n"
          ]
        }
      ],
      "source": [
        "# Find the minimum value\n",
        "min_value = min(dissimilarity_list)\n",
        "\n",
        "# Find the index of the minimum value\n",
        "min_index = dissimilarity_list.index(min_value)\n",
        "\n",
        "regionw = regions_list[min_index]\n",
        "print(regionw)\n"
      ]
    },
    {
      "cell_type": "markdown",
      "id": "aff086e4",
      "metadata": {
        "id": "aff086e4"
      },
      "source": [
        "6. For this region and this season, plot the *kde* of real data and the *kde* of generated data on the same figure, as in part A."
      ]
    },
    {
      "cell_type": "code",
      "execution_count": 130,
      "id": "d61bb84e",
      "metadata": {
        "id": "d61bb84e",
        "colab": {
          "base_uri": "https://localhost:8080/",
          "height": 472
        },
        "outputId": "35c00009-3a31-4154-89ba-9b0075791ad7"
      },
      "outputs": [
        {
          "output_type": "display_data",
          "data": {
            "text/plain": [
              "<Figure size 640x480 with 1 Axes>"
            ],
            "image/png": "[encoded data removed]"
          },
          "metadata": {}
        }
      ],
      "source": [
        "# selection of a regon\n",
        "region = regionw\n",
        "df_regionB = df[df.region == region]\n",
        "\n",
        "# Assuming 'date' is in datetime format\n",
        "df_regionB['date'] = pd.to_datetime(df_regionB['date'])\n",
        "\n",
        "# Calculate the day of the year\n",
        "df_regionB['day_of_year'] = df_regionB['date'].dt.dayofyear\n",
        "\n",
        "# Define the range for winter days (from day 356 to day 80)\n",
        "winter_data = df_regionB[(df_regionB['day_of_year'] >= 356) | (df_regionB['day_of_year'] <= 80)]\n",
        "\n",
        "# Drop the 'day_of_year' column if you don't need it\n",
        "winter_dataB = winter_data.drop(columns=['day_of_year'])\n",
        "\n",
        "consumptionB = list(winter_dataB['consumption'])\n",
        "\n",
        "\n",
        "consumption = consumptionB\n",
        "\n",
        "def average():\n",
        "  sumi = 0\n",
        "  for value in consumption:\n",
        "    sumi += value\n",
        "  return (sumi/len(consumption))\n",
        "\n",
        "average = average()\n",
        "\n",
        "def standardDeviation():\n",
        "  sumi = 0\n",
        "  for value in consumption:\n",
        "    sumi += (value - average)**2\n",
        "  return ((sumi/(len(consumption)-1))**(1/2))\n",
        "\n",
        "standardDeviation = standardDeviation()\n",
        "\n",
        "new_data = np.random.normal(average, standardDeviation, 110000)\n",
        "\n",
        "sns.kdeplot(data=consumption, label=\"Data\", color='blue', fill=True)\n",
        "sns.kdeplot(new_data, label='new data', color='red', fill=True)\n",
        "plt.title('real data and new data')\n",
        "plt.xlabel(\"Consumption (MW)\")\n",
        "plt.legend()\n",
        "plt.show()"
      ]
    },
    {
      "cell_type": "markdown",
      "id": "838fb2d1",
      "metadata": {
        "id": "838fb2d1"
      },
      "source": [
        "## C. Bayesian statistics"
      ]
    },
    {
      "cell_type": "markdown",
      "id": "92daddb8",
      "metadata": {
        "id": "92daddb8"
      },
      "source": [
        "We would like to include prior knowledge on the estimation, using Bayesian statistics.\n",
        "\n",
        "Consider the region Bretagne in winter. We focus on the mean $\\mu$, assuming the standard deviation is known and equal to $\\sigma=400$MW. We assume a Gaussian prior on $\\mu$ with mean $\\mu_0=3500$MW and standard deviation $\\sigma_0=500$MW.\n",
        "\n",
        "1. Give the posterior distribution of $\\mu$, using the parameters $\\sigma$, $\\mu_0$, $\\sigma_0$ and the $n$ observations $x_1,\\ldots,x_n$."
      ]
    },
    {
      "cell_type": "markdown",
      "id": "2d66e4b9",
      "metadata": {
        "id": "2d66e4b9"
      },
      "source": [
        "Your answer:\n",
        "\n",
        "$$\n",
        " p_{\\theta}(x|\\theta) = \\prod_{i=1}^{n} \\frac{1}{{\\sigma \\sqrt{2\\pi}}} e^{-\\frac{{(x_{i} - \\theta)^2}}{{2\\sigma^2}}} \\propto e^{\\sum_{i=1}^{n} -\\frac{{(x_{i} - \\theta)^2}}{{2\\sigma^2}}}\n",
        "$$\n",
        "\n",
        "$$\n",
        "\\pi(\\theta) = \\frac{1}{{\\sigma_{0} \\sqrt{2\\pi}}} e^{-\\frac{{(\\theta - \\mu_0)^2}}{{2\\sigma_{0}^2}}}\n",
        "$$\n",
        "\n",
        "$$\n",
        "\\pi(\\theta|x) \\propto p_{\\theta}(x|\\theta)\\pi(\\theta)\n",
        "$$\n",
        "\n",
        "$$\n",
        "-> \\pi(\\theta|x) \\propto e^{-\\frac{1}{2}\\frac{{(\\theta - \\mu_0)^2}}{{\\sigma_{0}^2}}}  e^{-\\frac{1}{2}\\sum_{i=1}^{n} \\frac{{(x_{i} - \\theta)^2}}{{\\sigma^2}}}\n",
        "$$\n",
        "\n",
        "$$\n",
        "= e^{-\\frac{1}{2}(\\frac{{(\\theta - \\mu_0)^2}}{{\\sigma_{0}^2}} + {\\sum_{i=1}^{n} \\frac{{(x_{i} - \\theta)^2}}{{\\sigma^2}}})} = e^{-\\frac{1}{2}M}$$\n",
        "\n",
        "$$\n",
        "M = {-\\frac{1}{2}(\\frac{{(\\theta - \\mu_0)^2}}{{\\sigma_{0}^2}} + {\\sum_{i=1}^{n} \\frac{{(x_{i} - \\theta)^2}}{{\\sigma^2}}})}\n",
        "$$\n",
        "$$\n",
        "= ({\\sum_{i=1}^{n} \\frac{x_{i}^2}{\\sigma^2} - \\frac{2\\theta}{\\sigma^2}{\\sum_{i=1}^{n} x_{i}}} + \\frac{n\\theta^2}{\\sigma^2}) + (\\frac{\\theta^2}{\\sigma_{0}^2} + \\frac{-2\\theta^2\\mu_{0}}{\\sigma_{0}^2} + \\frac{\\mu_{0}}{\\sigma_{0}^2})\n",
        "$$\n",
        "\n",
        "$$\n",
        "=\\theta^2(\\frac{n}{\\sigma^2} + \\frac{1}{\\sigma_{0}^2}) - 2\\theta(\\frac{\\sum_{i=1}^{n} x_{i}}{\\sigma^2} + \\frac{\\mu_{0}}{\\sigma_{0}^2}) + (\\frac{\\sum_{i=1}^{n} x_{i}^2}{\\sigma^2} + \\frac{\\mu_{0}^2}{\\sigma_{0}^2})\n",
        "$$\n",
        "\n",
        "$$\n",
        "= \\theta^2(\\frac{1}{\\sigma_{1}^2}) + -2\\theta(\\frac{\\mu_{1}}{\\sigma_{1}^2}) + (\\frac{\\sum_{i=1}^{n} x_{i}^2}{\\sigma^2} + \\frac{\\mu_{0}^2}{\\sigma_{0}^2})\n",
        "$$\n",
        "\n",
        "$$\n",
        "=\\frac{(\\theta-\\mu_{1})^2}{\\sigma_{1}^2}-\\frac{1}{\\sigma_{1}^2}(\\frac{\\sum_{i=1}^{n} x_{i}}{\\sigma^2} + \\frac{\\mu_{0}}{\\sigma_{0}^2})^2 + (\\frac{\\sum_{i=1}^{n} x_{i}^2}{\\sigma^2} + \\frac{\\mu_{0}^2}{\\sigma_{0}^2})\n",
        "$$\n",
        "\n",
        "$$\n",
        "\\propto \\frac{(\\theta-\\mu_{1})^2}{\\sigma_{1}^2}\n",
        "$$\n",
        "\n",
        "where\n",
        "\n",
        "$$\n",
        "\\sigma_{1}^2 = \\frac{1}{\\frac{n}{\\sigma^2} + \\frac{1}{\\sigma_{0}^2}}  = \\frac{\\sigma_0^2 \\sigma^2}{\\sigma^2+n\\sigma_0^2}\n",
        "\\quad\\mu_{1} = \\sigma_{1}^2(\\frac{\\sum_{i=1}^{n} x_{i}}{\\sigma^2} + \\frac{\\mu_{0}}{\\sigma_{0}^2}) = \\sigma_1^2 \\left[ \\frac{\\mu_0 \\sigma^2 + \\sigma_0^2 \\sum_{i=1}^nx_i}{\\sigma_0^2 \\sigma^2} \\right]\n",
        "$$\n",
        "\n",
        "$$\n",
        "= \\frac{\\mu_0\\sigma^2+\\sigma_0\\sum_{i=1}^n x_i}{\\sigma^2+n\\sigma_0^2}\n",
        "$$\n",
        "\n",
        "then\n",
        "\n",
        "$$\n",
        "\\theta|x \\sim \\mathcal{N}(\\mu_{1}, \\sigma_{1}^2)\\\n",
        "$$\n",
        "\n",
        "$$\n",
        "\\pi(\\theta|x) = \\frac{1}{{\\sigma_{1} \\sqrt{2\\pi}}} e^{-\\frac{{(\\theta - \\mu_1)^2}}{{2\\sigma_{1}^2}}}\n",
        "$$\n",
        "\n"
      ]
    },
    {
      "cell_type": "markdown",
      "id": "9ce2daad",
      "metadata": {
        "id": "9ce2daad"
      },
      "source": [
        "2. Give the parameters of the posterior distribution obtained for each year from 2013 to 2023, considered independently, in a single dataframe."
      ]
    },
    {
      "cell_type": "code",
      "execution_count": 143,
      "id": "74439986",
      "metadata": {
        "id": "74439986",
        "colab": {
          "base_uri": "https://localhost:8080/"
        },
        "outputId": "0998f9c7-9574-4435-ef30-1e60fa6237b6"
      },
      "outputs": [
        {
          "output_type": "stream",
          "name": "stdout",
          "text": [
            "\n",
            "\n",
            "\n",
            "\n",
            "\n",
            "\n",
            "\n",
            "\n",
            "\n",
            "\n",
            "\n",
            "    Year  Posterior_Mean  Posterior_Variance\n",
            "0   2013     3395.176091         1984.126984\n",
            "1   2014     3095.134598         1765.225066\n",
            "2   2015     3229.578553         1765.225066\n",
            "3   2016     3133.947485         1765.225066\n",
            "4   2017     3277.073330         1745.962462\n",
            "5   2018     3328.695940         1765.225066\n",
            "6   2019     3179.931598         1765.225066\n",
            "7   2020     3131.310680         1765.225066\n",
            "8   2021     3356.765605         1745.962462\n",
            "9   2022     3216.041483         1765.225066\n",
            "10  2023     3061.154016         1765.225066\n"
          ]
        }
      ],
      "source": [
        "def update_prior_with_data(year_data):\n",
        "  print()\n",
        "  var = 400\n",
        "  var0 = 500\n",
        "  m0 = 3500\n",
        "  denominator = (len(year_data)/(var**2)) + (1/(var0**2))\n",
        "  var1 = 1/denominator\n",
        "  sumi = ((np.sum(year_data))/var**2) + (m0/(var0**2))\n",
        "  m1 = var1*sumi\n",
        "  return (m1,var1)\n",
        "\n",
        "# Define the years you're interested in\n",
        "years = range(2013, 2024)\n",
        "\n",
        "# Define a DataFrame to store the results\n",
        "results_df = pd.DataFrame(columns=['Year', 'Posterior_Mean', 'Posterior_Variance'])\n",
        "\n",
        "# Assuming you have a Bayesian model that updates the prior knowledge with observed data,\n",
        "# you can use a loop to calculate the posterior parameters for each year\n",
        "# Convert the 'date' column to datetime format\n",
        "df['date'] = pd.to_datetime(df['date'])\n",
        "\n",
        "# Define a list to store the DataFrames for each year\n",
        "dfs = []\n",
        "\n",
        "for year in years:\n",
        "    # selection of a region\n",
        "    region = \"Bretagne\"\n",
        "    df_regionB = df[df.region == region]\n",
        "\n",
        "    # Assuming 'date' is in datetime format\n",
        "    df_regionB['date'] = pd.to_datetime(df_regionB['date'])\n",
        "\n",
        "    # Calculate the day of the year\n",
        "    df_regionB['year'] = df_regionB['date'].dt.year\n",
        "\n",
        "    df_regionB = df_regionB[(df_regionB['year'] == year-1) | (df_regionB['year'] == year)]\n",
        "\n",
        "    # Calculate the day of the year\n",
        "    df_regionB['day_of_year'] = df_regionB['date'].dt.dayofyear\n",
        "\n",
        "    # Define the range for winter days (from day 356 to day 80)\n",
        "    winter_data = df_regionB[((df_regionB['day_of_year'] >= 356)  & (df_regionB['year'] == year-1) )| ((df_regionB['day_of_year'] <= 80) & (df_regionB['year'] == year))]\n",
        "\n",
        "    # Drop the 'day_of_year' column if you don't need it\n",
        "    winter_dataB = winter_data.drop(columns=['day_of_year'])\n",
        "\n",
        "    year_data = list(winter_dataB['consumption'])\n",
        "\n",
        "    # Assuming you have a function that updates the prior with year_data,\n",
        "    # and returns the posterior distribution parameters (mean and variance)\n",
        "    posterior_mean, posterior_variance = update_prior_with_data(year_data)\n",
        "\n",
        "    # Create a DataFrame for the current year\n",
        "    year_df = pd.DataFrame({'Year': [year],\n",
        "                            'Posterior_Mean': [posterior_mean],\n",
        "                            'Posterior_Variance': [posterior_variance]})\n",
        "\n",
        "    # Append the current year's DataFrame to the list\n",
        "    dfs.append(year_df)\n",
        "\n",
        "# Concatenate all DataFrames into one\n",
        "results_df = pd.concat(dfs, ignore_index=True)\n",
        "\n",
        "# Print the DataFrame with the results\n",
        "print(results_df)"
      ]
    },
    {
      "cell_type": "markdown",
      "id": "34e7e53f",
      "metadata": {
        "id": "34e7e53f"
      },
      "source": [
        "3. Plot the density of the posterior distribution in 2023 and the *kde* of real data in 2023 on the same plot."
      ]
    },
    {
      "cell_type": "code",
      "execution_count": 144,
      "id": "eb02344e",
      "metadata": {
        "id": "eb02344e",
        "colab": {
          "base_uri": "https://localhost:8080/",
          "height": 489
        },
        "outputId": "1b842c58-4b61-4dfb-a5a1-551c6bd3d34d"
      },
      "outputs": [
        {
          "output_type": "stream",
          "name": "stdout",
          "text": [
            "1765.2250661959401\n"
          ]
        },
        {
          "output_type": "display_data",
          "data": {
            "text/plain": [
              "<Figure size 640x480 with 1 Axes>"
            ],
            "image/png": "[encoded data removed]"
          },
          "metadata": {}
        }
      ],
      "source": [
        "# selection of a region\n",
        "region = \"Bretagne\"\n",
        "df_regionB = df[df.region == region]\n",
        "\n",
        "# Assuming 'date' is in datetime format\n",
        "df_regionB['date'] = pd.to_datetime(df_regionB['date'])\n",
        "\n",
        "# Calculate the day of the year\n",
        "df_regionB['year'] = df_regionB['date'].dt.year\n",
        "\n",
        "df_regionB = df_regionB[df_regionB['year'] >= 2022]\n",
        "\n",
        "# Calculate the day of the year\n",
        "df_regionB['day_of_year'] = df_regionB['date'].dt.dayofyear\n",
        "\n",
        "# Define the range for winter days (from day 356 to day 80)\n",
        "winter_data = df_regionB[((df_regionB['day_of_year'] >= 356) & (df_regionB['year'] == 2022)) | ((df_regionB['day_of_year'] <= 80)& (df_regionB['year'] == 2023))]\n",
        "\n",
        "# Drop the 'day_of_year' column if you don't need it\n",
        "winter_dataB = winter_data.drop(columns=['day_of_year'])\n",
        "\n",
        "winter_dataB = list(winter_dataB['consumption'])\n",
        "\n",
        "# Convert the 'date' column to datetime format\n",
        "df['date'] = pd.to_datetime(df['date'])\n",
        "\n",
        "# Filter the data for the year 2023\n",
        "real_data_2023 = df[df['date'].dt.year == 2023]['consumption']\n",
        "\n",
        "results_2023 = results_df[results_df['Year'] == 2023]\n",
        "\n",
        "# Extract the posterior mean and variance for 2023\n",
        "posterior_mean_2023 = results_2023['Posterior_Mean'].values[0]\n",
        "posterior_variance_2023 = results_2023['Posterior_Variance'].values[0]\n",
        "print(posterior_variance_2023)\n",
        "\n",
        "x = norm.rvs(loc=posterior_mean_2023, scale=np.sqrt(posterior_variance_2023), size=len(winter_dataB), random_state=0)\n",
        "\n",
        "# Calculate the Kernel Density Estimate (KDE) for the real data in 2023\n",
        "kde = sns.kdeplot(winter_dataB, color='blue', label='KDE of Real Data 2023')\n",
        "sns.kdeplot(x, label='KDE of Posterior Distribution 2023', color='red')\n",
        "plt.title('real data and posterior')\n",
        "plt.xlabel(\"Consumption (MW)\")\n",
        "plt.legend()\n",
        "plt.show()"
      ]
    },
    {
      "cell_type": "markdown",
      "id": "34f2f990",
      "metadata": {
        "id": "34f2f990"
      },
      "source": [
        "4. Discuss the results, comparing to those obtained in part A."
      ]
    },
    {
      "cell_type": "markdown",
      "id": "b636cd1b",
      "metadata": {
        "id": "b636cd1b"
      },
      "source": [
        "Your answer: We can observe that the mean is pretty much similar to the one that can be appreciated on the kde of the real data, but the variance is actually difference in around 50% from the one obatined in part A, so that the posterior distribution is a lot more concentrated around the mean"
      ]
    },
    {
      "cell_type": "markdown",
      "id": "fbb2395b",
      "metadata": {
        "id": "fbb2395b"
      },
      "source": [
        "## D. Hypothesis testing"
      ]
    },
    {
      "cell_type": "markdown",
      "id": "9829b730",
      "metadata": {
        "id": "9829b730"
      },
      "source": [
        "Consider the region Bretagne. While the standard deviation is equal to 400MW in winter, you would like to test the hypothesis that it was 500MW in 2023. The mean is supposed to be known and equal to 3200MW.\n",
        "1. Propose a statistical test at level $\\alpha$."
      ]
    },
    {
      "cell_type": "markdown",
      "id": "eabddc9c",
      "metadata": {
        "id": "eabddc9c"
      },
      "source": [
        "Your answer:\n",
        "\n",
        "$$\n",
        "H_{0} : \\sigma_{0} = 400\n",
        "$$\n",
        "\n",
        "$$ H_{1} : \\sigma_{1} = 500 $$\n",
        "\n",
        "$$\n",
        "p_{\\theta}(x) = \\prod_{i=1}^{n} \\frac{1}{{\\sigma \\sqrt{2\\pi}}} e^{-\\frac{{(x_{i} - \\mu)^2}}{{2\\sigma^2}}} \\propto e^{\\sum_{i=1}^{n} -\\frac{{(x_{i} - \\mu)^2}}{{2\\sigma^2}}}\n",
        "$$\n",
        "\n",
        "$$\n",
        "\\frac{p_{1}(x)}{p_{0}(x)} \\propto e^{\\sum_{i=1}^{n} -\\frac{{(x_{i} - \\mu)^2}}{{2\\sigma_{1}^2}} +\\frac{{(x_{i} - \\mu)^2}}{{2\\sigma_{0}^2}}}\n",
        "$$\n",
        "$$\n",
        "\\propto e^{-\\frac{1}{2}(\\frac{1}{\\sigma_{1}^2}-\\frac{1}{\\sigma_{0}^2})\\sum_{i=1}^{n} {{(x_{i} - \\mu)^2}}{}}\n",
        "$$\n",
        "$$\n",
        "\\propto e^{\\frac{1}{2}(\\frac{1}{\\sigma_{0}^2}-\\frac{1}{\\sigma_{1}^2})\\sum_{i=1}^{n} {{(x_{i} - \\mu)^2}}{}}\n",
        "$$\n",
        "since\n",
        "$$\n",
        "\\sigma{1}>\\sigma{0} \\hspace{1cm} \\frac{1}{\\sigma_{0}^2}>\\frac{1}{\\sigma_{1}^2} \\hspace{1cm} -> \\frac{1}{\\sigma_{0}^2}-\\frac{1}{\\sigma_{1}^2} >0\n",
        "$$\n",
        "\n",
        "so that the likelihood ration is an incrasing function of x so the test has the form\n",
        "\n",
        "$$\n",
        "\\delta(x) = 1_{\\left\\{\\sum_{i=1}^{n}(x_{i}-\\mu)^{2}>c\\right\\}}\n",
        "$$\n",
        "\n",
        "now since\n",
        "\n",
        "$$\n",
        "x \\sim \\mathcal{N}(\\mu, \\sigma_{0}^2)\n",
        "$$\n",
        "\n",
        "if we do\n",
        "\n",
        "$$\n",
        "K = \\frac{(x-\\mu)}{\\sigma_{0}} \\hspace{1cm} -> k\\sim \\mathcal{N}(0, 1)\n",
        "$$\n",
        "\n",
        "if we isolate $(X-\\mu)$ square we get\n",
        "\n",
        "$$\n",
        "(x-\\mu)^2 = k^2\\sigma_{0}^2\n",
        "$$\n",
        "$$\n",
        "\\sum_{i=1}^{n}(x_{i}-\\mu)^{2} = \\sigma_{0}^2\\sum_{i=1}^{n}k_{i}^2\n",
        "$$\n",
        "\n",
        "and by definition we know that if $X_{1}, ..., X_{m}$ are independent, standard normal random variables, then the sum of their squares, is distributed according to the chi-squared distribution with m degrees of freedom. so\n",
        "\n",
        "$$\n",
        "\\sum_{i=1}^{n}k_{i}^2 \\sim \\chi^2(n)\n",
        "$$\n",
        "\n",
        "then the test is\n",
        "\n",
        "$$\n",
        "\\delta(x) = 1_{\\left\\{\\sum_{i=1}^{n}(x_{i}-\\mu)^{2}>c\\right\\}}\n",
        "$$\n",
        "$$\n",
        "\\hspace{1cm} = 1_{\\left\\{\\sigma_{0}^2\\sum_{i=1}^{n}k_{i}^2>c\\right\\}}\n",
        "$$\n",
        "$$\n",
        "\\hspace{1cm} = 1_{\\left\\{\\sum_{i=1}^{n}k_{i}^2>\\frac{c}{\\sigma_{0}^2}\\right\\}}\n",
        "$$\n",
        "\n",
        "where\n",
        "\n",
        "$$\n",
        "P\\left(k_{i}^2 \\leq \\frac{c}{\\sigma_{0}^2} \\right) = 1 - \\alpha\n",
        "$$\n",
        "\n",
        "$$\n",
        "Q(1-\\alpha) = \\frac{c}{\\sigma_0^2}\n",
        "$$\n",
        "\n",
        "where Q is the quantile function of the chi-squared distribution. We can finally express:\n",
        "\n",
        "$$\n",
        "c = \\sigma_0^2 Q(1-\\alpha)\n",
        "$$\n"
      ]
    },
    {
      "cell_type": "markdown",
      "id": "7d66ab40",
      "metadata": {
        "id": "7d66ab40"
      },
      "source": [
        "2. Provide the result of this test for $\\alpha=1\\%$."
      ]
    },
    {
      "cell_type": "code",
      "execution_count": 133,
      "id": "5e961bfd",
      "metadata": {
        "id": "5e961bfd",
        "colab": {
          "base_uri": "https://localhost:8080/"
        },
        "outputId": "cc9de607-c666-411f-c3bd-f6cda39b6ac8"
      },
      "outputs": [
        {
          "output_type": "stream",
          "name": "stdout",
          "text": [
            "since 18736029 <= 19858610.989779405 we fail to reject the null hypothesis\n"
          ]
        }
      ],
      "source": [
        "\n",
        "\n",
        "#get the data\n",
        "Bretagne = \"Bretagne\"\n",
        "df_Bretagne = df[df.region == Bretagne]\n",
        "mask = (df_Bretagne['date'] >= \"2022-12-22\") & (df_Bretagne['date'] <= \"2023-03-21\")\n",
        "df_Bretagne_winter_2022_2023 = df_Bretagne[mask]\n",
        "consumptionB = df_Bretagne_winter_2022_2023[\"consumption\"]\n",
        "\n",
        "\n",
        "mean = 3200\n",
        "\n",
        "#let's calculate the sum of the square of the differences\n",
        "k2 = sum((consumptionB - mean)**2)\n",
        "\n",
        "\n",
        "\n",
        "\n",
        "parameter = 0.01\n",
        "stdv0 = 400\n",
        "#now let's calculate the critical value\n",
        "c =  chi2.ppf(q=(1-parameter), df=90)* (stdv0**2)\n",
        "\n",
        "if k2 > c:\n",
        "  print('since ' + str(k2) + ' > ' + str(c) + ' we reject the null hypothesis')\n",
        "else:\n",
        "  print('since ' + str(k2) + ' <= ' + str(c) + ' we fail to reject the null hypothesis')\n"
      ]
    },
    {
      "cell_type": "markdown",
      "id": "a59a2a96",
      "metadata": {
        "id": "a59a2a96"
      },
      "source": [
        "## E. Testing independence"
      ]
    },
    {
      "cell_type": "markdown",
      "id": "a71cf918",
      "metadata": {
        "id": "a71cf918"
      },
      "source": [
        "Consider the power consumption in Bretagne and Provence-Alpes-Côte d'Azur in winter."
      ]
    },
    {
      "cell_type": "markdown",
      "id": "a7c78215",
      "metadata": {
        "id": "a7c78215"
      },
      "source": [
        "1. Visualize the joint distribution of power consumption in these 2 regions using seaborn."
      ]
    },
    {
      "cell_type": "code",
      "execution_count": 134,
      "id": "29b4c335",
      "metadata": {
        "id": "29b4c335",
        "colab": {
          "base_uri": "https://localhost:8080/",
          "height": 990
        },
        "outputId": "dc42de8a-b363-4670-a9cf-2697381f5f6a"
      },
      "outputs": [
        {
          "output_type": "display_data",
          "data": {
            "text/plain": [
              "<Figure size 640x480 with 1 Axes>"
            ],
            "image/png": "[encoded data removed]"
          },
          "metadata": {}
        },
        {
          "output_type": "display_data",
          "data": {
            "text/plain": [
              "<Figure size 500x500 with 6 Axes>"
            ],
            "image/png": "[encoded data removed]"
          },
          "metadata": {}
        }
      ],
      "source": [
        "# selection of a region\n",
        "region = \"Bretagne\"\n",
        "df_regionB = df[df.region == region]\n",
        "\n",
        "# Assuming 'date' is in datetime format\n",
        "df_regionB['date'] = pd.to_datetime(df_regionB['date'])\n",
        "\n",
        "# Calculate the day of the year\n",
        "df_regionB['day_of_year'] = df_regionB['date'].dt.dayofyear\n",
        "\n",
        "# Define the range for winter days (from day 356 to day 80)\n",
        "winter_data = df_regionB[(df_regionB['day_of_year'] >= 356) | (df_regionB['day_of_year'] <= 80)]\n",
        "\n",
        "# Drop the 'day_of_year' column if you don't need it\n",
        "winter_dataB = winter_data.drop(columns=['day_of_year'])\n",
        "\n",
        "consumptionB = list(winter_dataB['consumption'])\n",
        "\n",
        "region = \"Provence-Alpes-Côte d'Azur\"\n",
        "df_regionA = df[df.region == region]\n",
        "\n",
        "\n",
        "\n",
        "# Assuming 'date' is in datetime format\n",
        "df_regionA['date'] = pd.to_datetime(df_regionA['date'])\n",
        "\n",
        "# Calculate the day of the year\n",
        "df_regionA['day_of_year'] = df_regionA['date'].dt.dayofyear\n",
        "\n",
        "# Define the range for winter days (from day 356 to day 80)\n",
        "winter_dataA = df_regionA[(df_regionA['day_of_year'] >= 356) | (df_regionA['day_of_year'] <= 80)]\n",
        "\n",
        "# Drop the 'day_of_year' column if you don't need it\n",
        "winter_dataA = winter_dataA.drop(columns=['day_of_year'])\n",
        "\n",
        "consumptionA = list(winter_dataA['consumption'])\n",
        "\n",
        "\n",
        "# Create a DataFrame\n",
        "dfp = pd.DataFrame({'Region 1 Provence-Alpes-Côte': consumptionA,\n",
        "                   'Region 2 Bretagne': consumptionB})\n",
        "\n",
        "# Scatter plot\n",
        "sns.scatterplot(x='Region 1 Provence-Alpes-Côte', y='Region 2 Bretagne', data=dfp)\n",
        "plt.title('Joint Distribution of Power Consumption')\n",
        "plt.show()\n",
        "\n",
        "# Pair plot (scatter plot matrix)\n",
        "sns.pairplot(dfp)\n",
        "plt.suptitle('Pair Plot of Power Consumption', y=1.02)\n",
        "plt.show()\n",
        "\n"
      ]
    },
    {
      "cell_type": "markdown",
      "id": "a30a20bc",
      "metadata": {
        "id": "a30a20bc"
      },
      "source": [
        "2. Do you think the power consumption in these two regions is independent?"
      ]
    },
    {
      "cell_type": "markdown",
      "id": "bedb9130",
      "metadata": {
        "id": "bedb9130"
      },
      "source": [
        "Your answer:  Guided only by the given graph of the join distribution, i can see a corelation and I may believe that they are dependent since a concentration towards a straight line can be observed, but it's necessary to do a hypothesis test to give conclusion."
      ]
    },
    {
      "cell_type": "markdown",
      "id": "164f9b1c",
      "metadata": {
        "id": "164f9b1c"
      },
      "source": [
        "3. Propose a chi-2 test for the independence of the power consumption in these two regions at level $\\alpha$."
      ]
    },
    {
      "cell_type": "markdown",
      "id": "f079fecb",
      "metadata": {
        "id": "f079fecb"
      },
      "source": [
        "Your answer:\n",
        "\n",
        "Since length(number of observations from Bretagne) = 982 = length(number of observations from Provence-Alpes-Côte d'Azur) = n\n",
        "\n",
        "$$\n",
        "(X_{1},Y_{1}),\\ldots,(X_{n},Y_{n})\n",
        "$$\n",
        "\n",
        "we would like to test the null hypothesis\n",
        "\n",
        "$$H_0 = \\{X \\perp Y\\}$$\n",
        "\n",
        "agains\n",
        "\n",
        "$$H_1 = \\{X \\not\\perp Y\\}$$\n",
        "\n",
        "Being\n",
        "\n",
        "$$A_{1},\\ldots,A_{k}$$\n",
        "$$B_{1},\\ldots,B_{m}$$\n",
        "\n",
        "the partitions of the corresponding values $(X,Y)$\n",
        "\n",
        "we define\n",
        "\n",
        "$$T(X,Y) = \\sum_{i,j}{\\frac{(N_{ij} - \\frac{N_i N_j}{n})^2}{\\frac{N_i N_j}{n}}}$$\n",
        "\n",
        "where\n",
        "\n",
        "$N_{ij} = \\sum_{t=1}^n{1_{\\{X_t \\in A_i , Y_t \\in B_j \\}}} $ , $N_{i} = \\sum_{t=1}^n{1_{\\{X_t \\in A_i\\}}}$ , $N_{j} = \\sum_{t=1}^n{1_{\\{Y_t \\in B_j \\}}}$\n",
        "\n",
        "that since the number of observations\n",
        "$$n>>1$$\n",
        "\n",
        "we say that\n",
        "\n",
        "$$T(X,Y) \\sim \\chi^2((K-1)(L-1))$$\n",
        "\n",
        "then we propose the following chi-2 test for the independence of the power consumption in these two regions at level $\\alpha$.\n",
        "\n",
        "$$\\delta(x,y) = 1_{\\{T(x,y)>c\\}}$$\n",
        "\n",
        "where\n",
        "\n",
        "$$ \\alpha = P_{0}(T(X,Y)>c)$$\n",
        "\n",
        "and $ c = Q(1 - \\alpha) $ where $Q$ is the quantile of the $\\chi^2((K-1)(L-1)) $\n",
        "\n"
      ]
    },
    {
      "cell_type": "markdown",
      "id": "50a23229",
      "metadata": {
        "id": "50a23229"
      },
      "source": [
        "4. Give the result of this test for $\\alpha=1\\%$."
      ]
    },
    {
      "cell_type": "code",
      "execution_count": 135,
      "id": "5e744874",
      "metadata": {
        "id": "5e744874",
        "colab": {
          "base_uri": "https://localhost:8080/"
        },
        "outputId": "13bc1239-0185-45f3-e1d8-c119597dbae5"
      },
      "outputs": [
        {
          "output_type": "stream",
          "name": "stdout",
          "text": [
            "[[  1.   0.   0.   0.   0.   0.   0.   0.   0.   0.]\n",
            " [  0.  22.   0.   0.   0.   0.   0.   0.   0.   0.]\n",
            " [  0.   4.  48.   0.   0.   0.   0.   0.   0.   0.]\n",
            " [  0.   0.  46. 117.   0.   0.   0.   0.   0.   0.]\n",
            " [  0.   0.   0.  91. 136.   0.   0.   0.   0.   0.]\n",
            " [  0.   0.   0.   0. 167.  61.   0.   0.   0.   0.]\n",
            " [  0.   0.   0.   0.   0. 144.  31.   0.   0.   0.]\n",
            " [  0.   0.   0.   0.   0.   0.  66.  14.   0.   0.]\n",
            " [  0.   0.   0.   0.   0.   0.   0.  21.   4.   0.]\n",
            " [  0.   0.   0.   0.   0.   0.   0.   0.   5.   4.]]\n",
            "since 5295.894778054456 > 113.51241047036046 then H0 is rejected\n"
          ]
        }
      ],
      "source": [
        "\n",
        "consumptionA = sorted(consumptionA)\n",
        "consumptionB = sorted(consumptionB)\n",
        "\n",
        "numberOfPartitions = 10\n",
        "#Doing partitions of list\n",
        "partitionA = np.linspace(consumptionA[0], consumptionA[-1], numberOfPartitions)\n",
        "partitionB = np.linspace(consumptionB[0], consumptionB[-1], numberOfPartitions)\n",
        "\n",
        "\n",
        "#creating contingency tables\n",
        "\n",
        "table = np.zeros((numberOfPartitions,numberOfPartitions))\n",
        "for x in range(len(consumptionA)):\n",
        "  row = 0\n",
        "  for y in range(len(partitionA)):\n",
        "    if consumptionA[x] <= partitionA[y]:\n",
        "      row = y\n",
        "      break\n",
        "  column = 0\n",
        "  for z in range(len(partitionB)):\n",
        "    if consumptionB[x] <= partitionB[z]:\n",
        "      column = z\n",
        "      break\n",
        "  table[row][column] += 1\n",
        "\n",
        "\n",
        "\n",
        "print(table)\n",
        "#let's calculate T(X,Y)\n",
        "\n",
        "txy = 0\n",
        "for x in range(len(partitionA)):\n",
        "  for y in range(len(partitionB)):\n",
        "    column_values = [sublist[y] for sublist in table]\n",
        "    txy += ((table[x][y]-((sum(table[x])*sum(column_values))/len(consumptionA)))**2)/((sum(table[x])*sum(column_values))/len(consumptionA))\n",
        "\n",
        "# find c\n",
        "level = 0.01\n",
        "c = chi2.ppf(1-level, df=(numberOfPartitions-1)**2)\n",
        "\n",
        "if txy > c:\n",
        "  print('since ' + str(txy) + ' > ' + str(c) + ' then H0 is rejected')\n",
        "else:\n",
        "  print('since ' + str(txy) + ' <= ' + str(c) + ' then H0 is not rejected')\n",
        "\n",
        "\n"
      ]
    },
    {
      "cell_type": "markdown",
      "id": "339d7f64",
      "metadata": {
        "id": "339d7f64"
      },
      "source": [
        "## F. Confidence intervals"
      ]
    },
    {
      "cell_type": "markdown",
      "id": "1c957e74",
      "metadata": {
        "id": "1c957e74"
      },
      "source": [
        "Consider the region Bretagne in winter.\n",
        "\n",
        "1. Provide a confidence interval at level $\\alpha=95\\%$ for the mean power consumption."
      ]
    },
    {
      "cell_type": "code",
      "execution_count": 136,
      "id": "cd6315e4",
      "metadata": {
        "id": "cd6315e4",
        "colab": {
          "base_uri": "https://localhost:8080/"
        },
        "outputId": "69beba7c-07f3-4e74-f596-68be49754d68"
      },
      "outputs": [
        {
          "output_type": "stream",
          "name": "stdout",
          "text": [
            "The confidence interval at level 95% for the mean power consumption is [3189.431793533456 , 3240.576353106055]\n"
          ]
        }
      ],
      "source": [
        "# selection of a region\n",
        "region = \"Bretagne\"\n",
        "df_regionB = df[df.region == region]\n",
        "\n",
        "# Assuming 'date' is in datetime format\n",
        "df_regionB.loc[:,'date'] = pd.to_datetime(df_regionB['date'])\n",
        "\n",
        "# Calculate the day of the year\n",
        "df_regionB.loc[:,'day_of_year'] = df_regionB['date'].dt.dayofyear\n",
        "\n",
        "# Define the range for winter days (from day 356 to day 80)\n",
        "winter_data = df_regionB[(df_regionB['day_of_year'] >= 356) | (df_regionB['day_of_year'] <= 80)]\n",
        "\n",
        "# Drop the 'day_of_year' column if you don't need it\n",
        "winter_dataB = winter_data.drop(columns=['day_of_year'])\n",
        "\n",
        "consumptionB = list(winter_dataB['consumption'])\n",
        "\n",
        "#calculate the mean\n",
        "mean = sum(consumptionB) / len(consumptionB)\n",
        "\n",
        "# calculate standard Deviation for Bretagne\n",
        "\n",
        "sumi = 0\n",
        "for value in consumptionB:\n",
        "  sumi += (value - mean)**2\n",
        "standardDeviation = ((sumi/(len(consumptionB)-1))**(1/2))\n",
        "\n",
        "parameter = 0.05\n",
        "#let's calculate c\n",
        "c = norm.ppf(1-parameter/2)\n",
        "\n",
        "#calculate intervals\n",
        "interval = (c*standardDeviation)/((len(consumptionB)**0.5))\n",
        "\n",
        "lower = mean-interval\n",
        "upper = mean+interval\n",
        "print('The confidence interval at level 95% for the mean power consumption is [' + str(lower) + ' , ' + str(upper) + ']')\n"
      ]
    },
    {
      "cell_type": "markdown",
      "id": "8490c8fa",
      "metadata": {
        "id": "8490c8fa"
      },
      "source": [
        "2. Give the result of a Student test at level $5\\%$ for the null hypothesis that the mean consumption in 2023 is equal to 3100MW."
      ]
    },
    {
      "cell_type": "code",
      "execution_count": 145,
      "id": "547fb138",
      "metadata": {
        "id": "547fb138",
        "colab": {
          "base_uri": "https://localhost:8080/"
        },
        "outputId": "dafe0b1f-5a8e-40f1-f9fe-9679906dc97b"
      },
      "outputs": [
        {
          "output_type": "stream",
          "name": "stdout",
          "text": [
            "The confidence interval at level 95% for the mean power consumption is [2967.9469338309636 , 3148.119732835703]\n",
            "since t=-0.9130474263842759 <= c=1.9869786993737677 we fail to reject the null hypothesis\n"
          ]
        }
      ],
      "source": [
        "# selection of a region\n",
        "region = \"Bretagne\"\n",
        "df_regionB = df[df.region == region]\n",
        "\n",
        "# Assuming 'date' is in datetime format\n",
        "df_regionB['date'] = pd.to_datetime(df_regionB['date'])\n",
        "\n",
        "# Calculate the day of the year\n",
        "df_regionB['year'] = df_regionB['date'].dt.year\n",
        "\n",
        "\n",
        "df_regionB = df_regionB[df_regionB['year'] >= 2022]\n",
        "\n",
        "# Calculate the day of the year\n",
        "df_regionB['day_of_year'] = df_regionB['date'].dt.dayofyear\n",
        "\n",
        "# Define the range for winter days (from day 356 to day 80)\n",
        "winter_data = df_regionB[((df_regionB['day_of_year'] <= 80) & (df_regionB['year'] == 2023))| (df_regionB['day_of_year'] >= 356)]\n",
        "\n",
        "# Drop the 'day_of_year' column if you don't need it\n",
        "winter_dataB = winter_data.drop(columns=['day_of_year'])\n",
        "\n",
        "consumptionB = list(winter_dataB['consumption'])\n",
        "\n",
        "#calculate the mean\n",
        "mean = sum(consumptionB) / len(consumptionB)\n",
        "\n",
        "# calculate standard Deviation for Bretagne\n",
        "\n",
        "sumi = 0\n",
        "for value in consumptionB:\n",
        "  sumi += (value - mean)**2\n",
        "standardDeviation = ((sumi/(len(consumptionB)-1))**(1/2))\n",
        "\n",
        "parameter = 0.05\n",
        "#let's calculate c\n",
        "c = norm.ppf(1-parameter/2)\n",
        "\n",
        "#calculate intervals\n",
        "interval = (c*standardDeviation)/((len(consumptionB)**0.5))\n",
        "\n",
        "lower = mean-interval\n",
        "upper = mean+interval\n",
        "print('The confidence interval at level 95% for the mean power consumption is [' + str(lower) + ' , ' + str(upper) + ']')\n",
        "\n",
        "\n",
        "\n",
        "h0 =3100\n",
        "#let's calculate the t-value\n",
        "\n",
        "t_value = ((mean-h0)*(len(consumptionB)**0.5))/standardDeviation\n",
        "\n",
        "#let's calculate c\n",
        "c = t.ppf(1-parameter/2, len(consumptionB)-1)\n",
        "\n",
        "if t_value >= c:\n",
        "  print('since t=' + str(t_value) + ' > c=' + str(c) + ' we reject the null hypothesis')\n",
        "else:\n",
        "  print('since t=' + str(t_value) + ' <= c=' + str(c) + ' we fail to reject the null hypothesis')\n"
      ]
    }
  ],
  "metadata": {
    "kernelspec": {
      "display_name": "Python 3 (ipykernel)",
      "language": "python",
      "name": "python3"
    },
    "language_info": {
      "codemirror_mode": {
        "name": "ipython",
        "version": 3
      },
      "file_extension": ".py",
      "mimetype": "text/x-python",
      "name": "python",
      "nbconvert_exporter": "python",
      "pygments_lexer": "ipython3",
      "version": "3.9.18"
    },
    "colab": {
      "provenance": [],
      "collapsed_sections": [
        "986d36a8",
        "150efe52",
        "045ae627",
        "838fb2d1",
        "a59a2a96",
        "339d7f64"
      ]
    }
  },
  "nbformat": 4,
  "nbformat_minor": 5
}